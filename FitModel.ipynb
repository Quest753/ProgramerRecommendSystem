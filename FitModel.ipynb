{
 "cells": [
  {
   "cell_type": "markdown",
   "metadata": {},
   "source": [
    "# Обучение и подбор параметров для PCA и SVR\n",
    "Для обучения используется данные с headhunter'a из файла [hhNewImporved.csv]()"
   ]
  },
  {
   "cell_type": "code",
   "execution_count": 29,
   "metadata": {
    "collapsed": false
   },
   "outputs": [],
   "source": [
    "import pandas as pd\n",
    "import numpy as np\n",
    "import pickle\n",
    "from sklearn.grid_search import GridSearchCV\n",
    "from sklearn.cross_validation import train_test_split\n",
    "from sklearn.metrics import mean_squared_error\n",
    "from sklearn.decomposition import PCA\n",
    "from sklearn.svm  import SVR\n",
    "from matplotlib import pyplot as plt"
   ]
  },
  {
   "cell_type": "code",
   "execution_count": 30,
   "metadata": {
    "collapsed": false
   },
   "outputs": [],
   "source": [
    "all_data = pd.read_csv('./some path to/hhNewImproved.csv')\n",
    "X = all_data.drop(\"Salary\",axis = 1).as_matrix()\n",
    "y = np.log(all_data['Salary'].values)"
   ]
  },
  {
   "cell_type": "code",
   "execution_count": 32,
   "metadata": {
    "collapsed": false
   },
   "outputs": [
    {
     "name": "stdout",
     "output_type": "stream",
     "text": [
      "end of 1 iteration best GS params {'epsilon': 0.1, 'C': 100}\n",
      "end of 2 iteration best GS params {'epsilon': 0.1, 'C': 100}\n",
      "end of 3 iteration best GS params {'epsilon': 0.1, 'C': 100}\n",
      "end of 4 iteration best GS params {'epsilon': 0.1, 'C': 100}\n",
      "end of 5 iteration best GS params {'epsilon': 0.1, 'C': 100}\n",
      "end of 6 iteration best GS params {'epsilon': 0.001, 'C': 100}\n",
      "end of 7 iteration best GS params {'epsilon': 0.1, 'C': 100}\n",
      "end of 8 iteration best GS params {'epsilon': 0.1, 'C': 100}\n",
      "end of 9 iteration best GS params {'epsilon': 0.1, 'C': 100}\n",
      "end of 10 iteration best GS params {'epsilon': 0.1, 'C': 100}\n",
      "end of 11 iteration best GS params {'epsilon': 0.1, 'C': 100}\n",
      "end of 12 iteration best GS params {'epsilon': 0.1, 'C': 100}\n",
      "end of 13 iteration best GS params {'epsilon': 0.1, 'C': 100}\n",
      "end of 14 iteration best GS params {'epsilon': 0.1, 'C': 100}\n",
      "end of 15 iteration best GS params {'epsilon': 0.1, 'C': 100}\n",
      "end of 16 iteration best GS params {'epsilon': 0.1, 'C': 100}\n",
      "end of 17 iteration best GS params {'epsilon': 0.1, 'C': 100}\n",
      "end of 18 iteration best GS params {'epsilon': 0.1, 'C': 100}\n",
      "end of 19 iteration best GS params {'epsilon': 0.1, 'C': 100}\n",
      "end of 20 iteration best GS params {'epsilon': 0.01, 'C': 100}\n",
      "end of 21 iteration best GS params {'epsilon': 0.01, 'C': 100}\n",
      "end of 22 iteration best GS params {'epsilon': 0.01, 'C': 100}\n",
      "end of 23 iteration best GS params {'epsilon': 0.01, 'C': 100}\n",
      "end of 24 iteration best GS params {'epsilon': 0.1, 'C': 100}\n",
      "end of 25 iteration best GS params {'epsilon': 0.1, 'C': 100}\n",
      "end of 26 iteration best GS params {'epsilon': 0.1, 'C': 100}\n",
      "end of 27 iteration best GS params {'epsilon': 0.1, 'C': 100}\n",
      "end of 28 iteration best GS params {'epsilon': 0.1, 'C': 100}\n",
      "end of 29 iteration best GS params {'epsilon': 0.1, 'C': 100}\n"
     ]
    }
   ],
   "source": [
    "param = {\n",
    "    \"C\" : [0.1,10,100],\n",
    "    \"epsilon\" : [0.1,0.01,0.001]\n",
    "}\n",
    "error = []\n",
    "answer = []\n",
    "\n",
    "for i in range(1,30):\n",
    "    \n",
    "    X = all_data.drop(\"Salary\",axis = 1)\n",
    "    pca = PCA(n_components = i)\n",
    "    X = pca.fit_transform(X)\n",
    "    svr = SVR()\n",
    "    Xtrain,Xtest,Ytrain,Ytest = train_test_split(X,y,test_size = 0.1,random_state = 1234)\n",
    "    gsc = GridSearchCV(svr,param).fit(Xtrain,Ytrain)\n",
    "    answ = gsc.best_estimator_.predict(Xtest)\n",
    "    er = mean_squared_error(Ytest,answ)\n",
    "    error.append(er)\n",
    "    print(\"end of {} iteration best GS params {}\".format(i,gsc.best_params_))"
   ]
  },
  {
   "cell_type": "markdown",
   "metadata": {},
   "source": [
    "# График зависимости размерности PCA разложения от MSE"
   ]
  },
  {
   "cell_type": "code",
   "execution_count": 44,
   "metadata": {
    "collapsed": false,
    "scrolled": false
   },
   "outputs": [
    {
     "data": {
      "image/png": "[encoded data removed]",
      "text/plain": [
       "<matplotlib.figure.Figure at 0x7f3f21cc1950>"
      ]
     },
     "metadata": {},
     "output_type": "display_data"
    },
    {
     "data": {
      "text/plain": [
       "(0.24494560530791473, 6)"
      ]
     },
     "execution_count": 44,
     "metadata": {},
     "output_type": "execute_result"
    }
   ],
   "source": [
    "plt.figure(figsize = (10,7))\n",
    "plt.xlabel(\"PCA dimansion\")\n",
    "plt.ylabel(\"MSE score\")\n",
    "plt.plot(range(1,30),error)\n",
    "plt.show()\n",
    "\n",
    "np.min(error),np.argmin(error)+1"
   ]
  },
  {
   "cell_type": "code",
   "execution_count": 34,
   "metadata": {
    "collapsed": true
   },
   "outputs": [],
   "source": [
    "X = all_data.drop(\"Salary\",axis = 1).as_matrix()\n",
    "pca = PCA(n_components = 6)\n",
    "X = pca.fit_transform(X)\n",
    "Xtrain,Xtest,Ytrain,Ytest = train_test_split(X,y,test_size = 0.1,random_state = 1234)\n",
    "svr = SVR(C = 100,epsilon= 0.001).fit(Xtrain,Ytrain)"
   ]
  },
  {
   "cell_type": "code",
   "execution_count": 35,
   "metadata": {
    "collapsed": false
   },
   "outputs": [
    {
     "data": {
      "text/plain": [
       "0.24498477782331132"
      ]
     },
     "execution_count": 35,
     "metadata": {},
     "output_type": "execute_result"
    }
   ],
   "source": [
    "mean_squared_error(Ytest,svr.predict(Xtest))"
   ]
  },
  {
   "cell_type": "markdown",
   "metadata": {},
   "source": [
    "# Сохранение обученных моделей в файл"
   ]
  },
  {
   "cell_type": "code",
   "execution_count": 36,
   "metadata": {
    "collapsed": false
   },
   "outputs": [],
   "source": [
    "with open('data.pickle', 'wb') as f:\n",
    "    pickle.dump(svr, f)\n",
    "with open('pca.pickle', 'wb') as f:\n",
    "    pickle.dump(pca, f)"
   ]
  }
 ],
 "metadata": {
  "anaconda-cloud": {},
  "kernelspec": {
   "display_name": "Python [py27]",
   "language": "python",
   "name": "Python [py27]"
  },
  "language_info": {
   "codemirror_mode": {
    "name": "ipython",
    "version": 2
   },
   "file_extension": ".py",
   "mimetype": "text/x-python",
   "name": "python",
   "nbconvert_exporter": "python",
   "pygments_lexer": "ipython2",
   "version": "2.7.12"
  }
 },
 "nbformat": 4,
 "nbformat_minor": 1
}
