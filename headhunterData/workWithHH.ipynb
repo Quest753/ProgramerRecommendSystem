{
 "cells": [
  {
   "cell_type": "markdown",
   "metadata": {},
   "source": [
    "# Берем данные о цене за работу и предложениях с headhunter"
   ]
  },
  {
   "cell_type": "code",
   "execution_count": 3,
   "metadata": {
    "collapsed": true
   },
   "outputs": [],
   "source": [
    "import pandas as pd\n",
    "import numpy as np\n",
    "import math\n",
    "import json\n",
    "import random"
   ]
  },
  {
   "cell_type": "code",
   "execution_count": 76,
   "metadata": {
    "collapsed": true
   },
   "outputs": [
    {
     "ename": "JSONDecodeError",
     "evalue": "Expecting ':' delimiter: line 1 column 7803 (char 7802)",
     "output_type": "error",
     "traceback": [
      "\u001b[0;31m---------------------------------------------------------------------------\u001b[0m",
      "\u001b[0;31mJSONDecodeError\u001b[0m                           Traceback (most recent call last)",
      "\u001b[0;32m<ipython-input-76-a790bf8ba161>\u001b[0m in \u001b[0;36m<module>\u001b[0;34m()\u001b[0m\n\u001b[1;32m      5\u001b[0m \u001b[0;32mfor\u001b[0m \u001b[0mline\u001b[0m \u001b[0;32min\u001b[0m \u001b[0mfile\u001b[0m\u001b[0;34m:\u001b[0m\u001b[0;34m\u001b[0m\u001b[0m\n\u001b[1;32m      6\u001b[0m     \u001b[0mcount\u001b[0m \u001b[0;34m+=\u001b[0m \u001b[0;36m1\u001b[0m\u001b[0;34m\u001b[0m\u001b[0m\n\u001b[0;32m----> 7\u001b[0;31m     \u001b[0msummary\u001b[0m \u001b[0;34m=\u001b[0m \u001b[0mjson\u001b[0m\u001b[0;34m.\u001b[0m\u001b[0mloads\u001b[0m\u001b[0;34m(\u001b[0m\u001b[0mline\u001b[0m\u001b[0;34m,\u001b[0m \u001b[0mencoding\u001b[0m\u001b[0;34m=\u001b[0m\u001b[0;34m'utf-8'\u001b[0m\u001b[0;34m)\u001b[0m\u001b[0;34m\u001b[0m\u001b[0m\n\u001b[0m\u001b[1;32m      8\u001b[0m     \u001b[0;32mfor\u001b[0m \u001b[0mi\u001b[0m \u001b[0;32min\u001b[0m \u001b[0mrange\u001b[0m\u001b[0;34m(\u001b[0m\u001b[0mlen\u001b[0m\u001b[0;34m(\u001b[0m\u001b[0msummary\u001b[0m\u001b[0;34m[\u001b[0m\u001b[0;34m'specializations'\u001b[0m\u001b[0;34m]\u001b[0m\u001b[0;34m)\u001b[0m\u001b[0;34m)\u001b[0m\u001b[0;34m:\u001b[0m\u001b[0;34m\u001b[0m\u001b[0m\n\u001b[1;32m      9\u001b[0m         \u001b[0;32mif\u001b[0m \u001b[0;34m(\u001b[0m\u001b[0msummary\u001b[0m\u001b[0;34m[\u001b[0m\u001b[0;34m'specializations'\u001b[0m\u001b[0;34m]\u001b[0m\u001b[0;34m[\u001b[0m\u001b[0mi\u001b[0m\u001b[0;34m]\u001b[0m\u001b[0;34m[\u001b[0m\u001b[0;34m'profarea_name'\u001b[0m\u001b[0;34m]\u001b[0m \u001b[0;34m==\u001b[0m \u001b[0;34m'Информационные технологии, интернет, телеком'\u001b[0m\u001b[0;34m)\u001b[0m\u001b[0;34m:\u001b[0m\u001b[0;34m\u001b[0m\u001b[0m\n",
      "\u001b[0;32m/anaconda3/lib/python3.5/json/__init__.py\u001b[0m in \u001b[0;36mloads\u001b[0;34m(s, encoding, cls, object_hook, parse_float, parse_int, parse_constant, object_pairs_hook, **kw)\u001b[0m\n\u001b[1;32m    317\u001b[0m             \u001b[0mparse_int\u001b[0m \u001b[0;32mis\u001b[0m \u001b[0;32mNone\u001b[0m \u001b[0;32mand\u001b[0m \u001b[0mparse_float\u001b[0m \u001b[0;32mis\u001b[0m \u001b[0;32mNone\u001b[0m \u001b[0;32mand\u001b[0m\u001b[0;34m\u001b[0m\u001b[0m\n\u001b[1;32m    318\u001b[0m             parse_constant is None and object_pairs_hook is None and not kw):\n\u001b[0;32m--> 319\u001b[0;31m         \u001b[0;32mreturn\u001b[0m \u001b[0m_default_decoder\u001b[0m\u001b[0;34m.\u001b[0m\u001b[0mdecode\u001b[0m\u001b[0;34m(\u001b[0m\u001b[0ms\u001b[0m\u001b[0;34m)\u001b[0m\u001b[0;34m\u001b[0m\u001b[0m\n\u001b[0m\u001b[1;32m    320\u001b[0m     \u001b[0;32mif\u001b[0m \u001b[0mcls\u001b[0m \u001b[0;32mis\u001b[0m \u001b[0;32mNone\u001b[0m\u001b[0;34m:\u001b[0m\u001b[0;34m\u001b[0m\u001b[0m\n\u001b[1;32m    321\u001b[0m         \u001b[0mcls\u001b[0m \u001b[0;34m=\u001b[0m \u001b[0mJSONDecoder\u001b[0m\u001b[0;34m\u001b[0m\u001b[0m\n",
      "\u001b[0;32m/anaconda3/lib/python3.5/json/decoder.py\u001b[0m in \u001b[0;36mdecode\u001b[0;34m(self, s, _w)\u001b[0m\n\u001b[1;32m    337\u001b[0m \u001b[0;34m\u001b[0m\u001b[0m\n\u001b[1;32m    338\u001b[0m         \"\"\"\n\u001b[0;32m--> 339\u001b[0;31m         \u001b[0mobj\u001b[0m\u001b[0;34m,\u001b[0m \u001b[0mend\u001b[0m \u001b[0;34m=\u001b[0m \u001b[0mself\u001b[0m\u001b[0;34m.\u001b[0m\u001b[0mraw_decode\u001b[0m\u001b[0;34m(\u001b[0m\u001b[0ms\u001b[0m\u001b[0;34m,\u001b[0m \u001b[0midx\u001b[0m\u001b[0;34m=\u001b[0m\u001b[0m_w\u001b[0m\u001b[0;34m(\u001b[0m\u001b[0ms\u001b[0m\u001b[0;34m,\u001b[0m \u001b[0;36m0\u001b[0m\u001b[0;34m)\u001b[0m\u001b[0;34m.\u001b[0m\u001b[0mend\u001b[0m\u001b[0;34m(\u001b[0m\u001b[0;34m)\u001b[0m\u001b[0;34m)\u001b[0m\u001b[0;34m\u001b[0m\u001b[0m\n\u001b[0m\u001b[1;32m    340\u001b[0m         \u001b[0mend\u001b[0m \u001b[0;34m=\u001b[0m \u001b[0m_w\u001b[0m\u001b[0;34m(\u001b[0m\u001b[0ms\u001b[0m\u001b[0;34m,\u001b[0m \u001b[0mend\u001b[0m\u001b[0;34m)\u001b[0m\u001b[0;34m.\u001b[0m\u001b[0mend\u001b[0m\u001b[0;34m(\u001b[0m\u001b[0;34m)\u001b[0m\u001b[0;34m\u001b[0m\u001b[0m\n\u001b[1;32m    341\u001b[0m         \u001b[0;32mif\u001b[0m \u001b[0mend\u001b[0m \u001b[0;34m!=\u001b[0m \u001b[0mlen\u001b[0m\u001b[0;34m(\u001b[0m\u001b[0ms\u001b[0m\u001b[0;34m)\u001b[0m\u001b[0;34m:\u001b[0m\u001b[0;34m\u001b[0m\u001b[0m\n",
      "\u001b[0;32m/anaconda3/lib/python3.5/json/decoder.py\u001b[0m in \u001b[0;36mraw_decode\u001b[0;34m(self, s, idx)\u001b[0m\n\u001b[1;32m    353\u001b[0m         \"\"\"\n\u001b[1;32m    354\u001b[0m         \u001b[0;32mtry\u001b[0m\u001b[0;34m:\u001b[0m\u001b[0;34m\u001b[0m\u001b[0m\n\u001b[0;32m--> 355\u001b[0;31m             \u001b[0mobj\u001b[0m\u001b[0;34m,\u001b[0m \u001b[0mend\u001b[0m \u001b[0;34m=\u001b[0m \u001b[0mself\u001b[0m\u001b[0;34m.\u001b[0m\u001b[0mscan_once\u001b[0m\u001b[0;34m(\u001b[0m\u001b[0ms\u001b[0m\u001b[0;34m,\u001b[0m \u001b[0midx\u001b[0m\u001b[0;34m)\u001b[0m\u001b[0;34m\u001b[0m\u001b[0m\n\u001b[0m\u001b[1;32m    356\u001b[0m         \u001b[0;32mexcept\u001b[0m \u001b[0mStopIteration\u001b[0m \u001b[0;32mas\u001b[0m \u001b[0merr\u001b[0m\u001b[0;34m:\u001b[0m\u001b[0;34m\u001b[0m\u001b[0m\n\u001b[1;32m    357\u001b[0m             \u001b[0;32mraise\u001b[0m \u001b[0mJSONDecodeError\u001b[0m\u001b[0;34m(\u001b[0m\u001b[0;34m\"Expecting value\"\u001b[0m\u001b[0;34m,\u001b[0m \u001b[0ms\u001b[0m\u001b[0;34m,\u001b[0m \u001b[0merr\u001b[0m\u001b[0;34m.\u001b[0m\u001b[0mvalue\u001b[0m\u001b[0;34m)\u001b[0m \u001b[0;32mfrom\u001b[0m \u001b[0;32mNone\u001b[0m\u001b[0;34m\u001b[0m\u001b[0m\n",
      "\u001b[0;31mJSONDecodeError\u001b[0m: Expecting ':' delimiter: line 1 column 7803 (char 7802)"
     ]
    }
   ],
   "source": [
    "file = open('headhunter_data.json')\n",
    "progers = []\n",
    "valid_progers = []\n",
    "count = 0\n",
    "for line in file:\n",
    "    count += 1\n",
    "    summary = json.loads(line, encoding='utf-8')\n",
    "    for i in range(len(summary['specializations'])):\n",
    "        if (summary['specializations'][i]['profarea_name'] == 'Информационные технологии, интернет, телеком'):\n",
    "            progers.append(summary)\n",
    "            valid_progers.append(summary)\n",
    "            break\n",
    "#progers[25]['specializations'][4]['name']\n",
    "len(progers)"
   ]
  },
  {
   "cell_type": "code",
   "execution_count": 86,
   "metadata": {
    "collapsed": false
   },
   "outputs": [
    {
     "data": {
      "text/plain": [
       "{'between1And3', 'between3And6', 'moreThan6', 'noExperience'}"
      ]
     },
     "execution_count": 86,
     "metadata": {},
     "output_type": "execute_result"
    }
   ],
   "source": [
    "experience = set()\n",
    "currency = set()\n",
    "for prog in progers:\n",
    "    experience.add(prog['experience']['id'])\n",
    "    currency.add(prog['salary']['currency'])\n",
    "experience\n",
    "#currency"
   ]
  },
  {
   "cell_type": "code",
   "execution_count": 87,
   "metadata": {
    "collapsed": false
   },
   "outputs": [
    {
     "data": {
      "text/plain": [
       "35.77"
      ]
     },
     "execution_count": 87,
     "metadata": {},
     "output_type": "execute_result"
    }
   ],
   "source": [
    "course = dict()\n",
    "course['AZN'] = 35.77\n",
    "course['BYR'] = 32.01\n",
    "course['EUR'] = 65.9042686\n",
    "course['GEL'] = 24.5\n",
    "course['KGS'] = 0.91\n",
    "course['KZT'] = 0.186407888\n",
    "course['RUR'] = 1\n",
    "course['UAH'] = 2.38985272\n",
    "course['USD'] = 62.4063904\n",
    "course['UZS'] = 0.0195332002\n",
    "course['AZN']"
   ]
  },
  {
   "cell_type": "code",
   "execution_count": 88,
   "metadata": {
    "collapsed": false
   },
   "outputs": [
    {
     "data": {
      "text/plain": [
       "0"
      ]
     },
     "execution_count": 88,
     "metadata": {},
     "output_type": "execute_result"
    }
   ],
   "source": [
    "count = 0\n",
    "skills = []\n",
    "valid_progers = []\n",
    "for i in range(len(progers)):\n",
    "    if (len(progers[i]['key_skills']) != 0 and (progers[i]['salary']['from'] != None or progers[i]['salary']['to'] != None)):\n",
    "        skills.extend(progers[i]['key_skills'])\n",
    "        count += 1\n",
    "        valid_progers.append(progers[i])\n",
    "#count\n",
    "#skills[0]['name']\n",
    "unique_skills = set()\n",
    "for i in range(len(skills)):\n",
    "    unique_skills.add(skills[i]['name'])\n",
    "#len(unique_skills)\n",
    "len(progers[0]['key_skills'])"
   ]
  },
  {
   "cell_type": "code",
   "execution_count": 1,
   "metadata": {
    "collapsed": false
   },
   "outputs": [],
   "source": [
    "git_skills = ['AGS Script', 'AMPL', 'ANTLR', 'API Blueprint', \n",
    "'ActionScript', 'Ada', 'Agda', 'ApacheConf', 'Apex', 'AppleScript',\n",
    "'Arc', 'Arduino', 'AspectJ', 'Assembly', 'Augeas', 'AutoHotkey',\n",
    "'AutoIt', 'Awk', 'Batchfile', 'Bison', 'BitBake', 'BlitzBasic',\n",
    "'Boo', 'Brainfuck', 'Brightscript', 'C', 'C#', 'C++', 'CMake',\n",
    "'CSS', 'CartoCSS', 'Cirru', 'Clojure', 'CoffeeScript', 'ColdFusion',\n",
    "'Common Lisp', 'Coq', 'Crystal', 'Cucumber', 'Cuda', 'Cycript', 'D',\n",
    "'DCPU-16 ASM', 'DIGITAL Command Language', 'DOT', 'DTrace', 'Dart',\n",
    "'Delphi', 'Diff', 'Dylan', 'Eagle', 'Elixir', 'Elm', 'Emacs Lisp',\n",
    "'Erlang', 'F#', 'FORTRAN', 'Factor', 'Fancy', 'Forth', 'FreeMarker',\n",
    "'GAP', 'GCC Machine Description', 'GLSL', 'Game Maker Language',\n",
    "'Gettext Catalog', 'Gnuplot', 'Go', 'Gosu', 'Groff', 'Groovy',\n",
    "'HCL', 'HTML', 'HaXe', 'Hack', 'Handlebars', 'Haskell', 'Haxe',\n",
    "'IDL', 'Idris', 'Inno Setup', 'Io', 'Isabelle', 'JSONiq', 'Java',\n",
    "'JavaScript', 'Julia', 'Jupyter Notebook', 'KiCad', 'Kotlin',\n",
    "'Lasso', 'Lean', 'Lex', 'LilyPond', 'Liquid', 'LiveScript', 'Logos',\n",
    "'Lua', 'M', 'M4', 'Makefile', 'Mako', 'Mathematica', 'Matlab',\n",
    "'Mercury', 'Metal', 'Mirah', 'Modelica', 'Modula-2', 'MoonScript',\n",
    "'Nemerle', 'NetLogo', 'NewLisp', 'Nimrod', 'Nit', 'Nix',\n",
    "'Nu', 'OCaml', 'Objective-C', 'Objective-C++', 'Objective-J', 'Opa',\n",
    "'OpenEdge ABL', 'OpenSCAD', 'PHP', 'PLSQL', 'PLpgSQL',\n",
    "'POV-Ray SDL', 'Parrot', 'Pascal', 'Perl', 'Perl6', 'PigLatin',\n",
    "'PogoScript', 'Pony', 'PostScript', 'PowerShell', 'Processing',\n",
    "'Prolog', 'Protocol Buffer', 'Puppet', 'Pure Data', 'PureScript',\n",
    "'Python', 'QML', 'R', 'RAML', 'Racket', 'Ragel in Ruby Host',\n",
    "'Rebol', 'Red', 'Ruby', 'Rust','SQLPL', 'SaltStack',\n",
    "'Scala', 'Scheme', 'Scilab', 'Self', 'Shell', 'Shen', 'Slash',\n",
    "'Smali', 'Smalltalk', 'Smarty', 'Standard ML', 'Swift',\n",
    "'SystemVerilog', 'Tcl', 'TeX', 'Thrift', 'TypeScript',\n",
    "'UnrealScript', 'VCL', 'VHDL', 'Vala', 'Verilog', 'VimL',\n",
    "'Visual Basic', 'Vue', 'Web Ontology Language', 'WebIDL', 'XML',\n",
    "'XQuery', 'XSLT', 'Xojo', 'Xtend', 'Yacc', 'nesC', 'ooc', 'wisp']"
   ]
  },
  {
   "cell_type": "code",
   "execution_count": 91,
   "metadata": {
    "collapsed": false
   },
   "outputs": [],
   "source": [
    "def validProger(proger):\n",
    "    for sk in proger['key_skills']:\n",
    "        if sk['name'] in unique_skills:\n",
    "            return True\n",
    "    return False"
   ]
  },
  {
   "cell_type": "code",
   "execution_count": 92,
   "metadata": {
    "collapsed": false
   },
   "outputs": [],
   "source": [
    "for i in range(len(valid_progers)):\n",
    "    if not validProger(valid_progers[i]):\n",
    "        del valid_progers[i]"
   ]
  },
  {
   "cell_type": "code",
   "execution_count": 118,
   "metadata": {
    "collapsed": true
   },
   "outputs": [],
   "source": [
    "hdt = pd.DataFrame()"
   ]
  },
  {
   "cell_type": "code",
   "execution_count": 121,
   "metadata": {
    "collapsed": false
   },
   "outputs": [],
   "source": [
    "experiences = []\n",
    "for i in range(len(valid_progers)):\n",
    "    # all possible exp: 'between1And3', 'between3And6', 'moreThan6', 'noExperience'\n",
    "    if valid_progers[i]['experience']['id'] == 'between1And3':\n",
    "        experiences.append(1 + 2 * random.random())\n",
    "    elif valid_progers[i]['experience']['id'] == 'between3And6':\n",
    "        experiences.append(3 + 3 * random.random())\n",
    "    elif valid_progers[i]['experience']['id'] == 'moreThan6':\n",
    "        experiences.append(5.5 + 3 * random.random())\n",
    "    else:\n",
    "        experiences.append(math.exp(1) / 365)"
   ]
  },
  {
   "cell_type": "code",
   "execution_count": 122,
   "metadata": {
    "collapsed": true
   },
   "outputs": [],
   "source": [
    "def checkIfUserHaveSkill(user, skl):\n",
    "    for s in user['key_skills']:\n",
    "        if s['name'] == skl:\n",
    "            return True\n",
    "    return False"
   ]
  },
  {
   "cell_type": "code",
   "execution_count": 123,
   "metadata": {
    "collapsed": false
   },
   "outputs": [],
   "source": [
    "for skl in union_skills:\n",
    "    col = []\n",
    "    for i in range(len(valid_progers)):\n",
    "        if checkIfUserHaveSkill(valid_progers[i], skl):\n",
    "            if experiences[i] > 1:\n",
    "                col.append(math.log(experiences[i] * 365 + random.randrange(1, 150) - random.randrange(1, 100)))\n",
    "            else:\n",
    "                col.append(math.log(experiences[i] * 365))\n",
    "        else:\n",
    "            col.append(0)\n",
    "    hdt[skl] = col"
   ]
  },
  {
   "cell_type": "code",
   "execution_count": 124,
   "metadata": {
    "collapsed": true
   },
   "outputs": [],
   "source": [
    "sal = []\n",
    "for i in range(len(valid_progers)):\n",
    "    start = valid_progers[i]['salary']['from']\n",
    "    finish = valid_progers[i]['salary']['to']\n",
    "    if start != None and finish != None:\n",
    "        sal.append(course[valid_progers[i]['salary']['currency']] * (start + random.random() * (finish - start)))\n",
    "    elif start == None:\n",
    "        sal.append(course[valid_progers[i]['salary']['currency']] * finish - 0.15 * finish * random.random())\n",
    "    else:\n",
    "        sal.append(course[valid_progers[i]['salary']['currency']] * start + 0.15 * start * random.random())\n",
    "hdt['Salary'] = sal"
   ]
  },
  {
   "cell_type": "code",
   "execution_count": 56,
   "metadata": {
    "collapsed": false
   },
   "outputs": [],
   "source": [
    "tmp = pd.read_csv('hhdataframe.csv')\n",
    "hdt = pd.read_csv('hhdataframe.csv')"
   ]
  },
  {
   "cell_type": "code",
   "execution_count": 130,
   "metadata": {
    "collapsed": false
   },
   "outputs": [],
   "source": [
    "rows_to_del = []\n",
    "for i in range(hdt.shape[0]):\n",
    "    if np.sum(hdt.iloc[i]) == hdt.iloc[i].Salary:\n",
    "        rows_to_del.append(i)\n",
    "\n",
    "hdt.drop(hdt.index[rows_to_del], inplace=True)"
   ]
  },
  {
   "cell_type": "code",
   "execution_count": 2,
   "metadata": {
    "collapsed": true
   },
   "outputs": [],
   "source": [
    "col = ['Assembly', 'C#', 'C++', 'CMake', 'CSS', 'Clojure', 'CoffeeScript',\n",
    "       'ColdFusion', 'Delphi', 'GLSL', 'Go', 'Groovy', 'HTML', 'Java',\n",
    "       'JavaScript', 'Kotlin', 'Lua', 'Objective-C', 'PHP', 'Perl',\n",
    "       'PowerShell', 'Puppet', 'Python', 'Ruby', 'Smarty', 'Swift',\n",
    "       'TypeScript', 'XML', 'XSLT']"
   ]
  },
  {
   "cell_type": "code",
   "execution_count": 135,
   "metadata": {
    "collapsed": false
   },
   "outputs": [],
   "source": [
    "salary = hdt.sort_values('Salary')[300:-110]\n",
    "hh = salary.drop(\"Salary\",axis = 1)\n",
    "for i in range(len(hh)):\n",
    "    hh.iloc[i] = hh.iloc[i].values/(13.7207)\n",
    "\n",
    "for i in hh.columns:\n",
    "    if i not in col:\n",
    "        hh = hh.drop(i,axis = 1)\n",
    "hh[\"Salary\"] = salary[\"Salary\"]\n",
    "hh.to_csv('hhNewImproved.csv', index=False)"
   ]
  },
  {
   "cell_type": "code",
   "execution_count": 202,
   "metadata": {
    "collapsed": false
   },
   "outputs": [],
   "source": [
    "def MySplit(s):\n",
    "    chars = ', :!?;)(/\\'\n",
    "    i = 0\n",
    "    ans = []\n",
    "    h = ''\n",
    "    while (i < len(s)):\n",
    "        if (s[i] == '<'):\n",
    "            ans.append(h)\n",
    "            h = ''\n",
    "            while (i < len(s) and s[i] != '>'):\n",
    "                i += 1\n",
    "        elif (s[i] in chars):\n",
    "            ans.append(h)\n",
    "            h = ''\n",
    "        else:\n",
    "            h += s[i]\n",
    "        i += 1\n",
    "    return ans"
   ]
  },
  {
   "cell_type": "code",
   "execution_count": 205,
   "metadata": {
    "collapsed": false
   },
   "outputs": [
    {
     "data": {
      "text/plain": [
       "{'ActionScript',\n",
       " 'Apex',\n",
       " 'Arduino',\n",
       " 'C',\n",
       " 'Crystal',\n",
       " 'Cucumber',\n",
       " 'Cuda',\n",
       " 'D',\n",
       " 'DOT',\n",
       " 'Dart',\n",
       " 'Erlang',\n",
       " 'F#',\n",
       " 'Factor',\n",
       " 'GAP',\n",
       " 'Hack',\n",
       " 'Haskell',\n",
       " 'IDL',\n",
       " 'Lean',\n",
       " 'Liquid',\n",
       " 'M',\n",
       " 'M4',\n",
       " 'Makefile',\n",
       " 'Mathematica',\n",
       " 'Matlab',\n",
       " 'Mercury',\n",
       " 'Metal',\n",
       " 'Nix',\n",
       " 'OCaml',\n",
       " 'PLSQL',\n",
       " 'Pascal',\n",
       " 'Pony',\n",
       " 'Processing',\n",
       " 'QML',\n",
       " 'R',\n",
       " 'RAML',\n",
       " 'Red',\n",
       " 'Rust',\n",
       " 'Scala',\n",
       " 'Scheme',\n",
       " 'Self',\n",
       " 'Shell',\n",
       " 'Slash',\n",
       " 'Smalltalk',\n",
       " 'SystemVerilog',\n",
       " 'Thrift',\n",
       " 'UnrealScript',\n",
       " 'VCL',\n",
       " 'VHDL',\n",
       " 'Verilog',\n",
       " 'XQuery',\n",
       " 'Xtend'}"
      ]
     },
     "execution_count": 205,
     "metadata": {},
     "output_type": "execute_result"
    }
   ],
   "source": [
    "from_disc = set()\n",
    "for prog in progers:\n",
    "    if (prog['description'] != None):\n",
    "        parse_disc = MySplit(prog['description'])\n",
    "        for skill in parse_disc:\n",
    "            if (skill in git_skills and not skill in union_skills):\n",
    "                from_disc.add(skill)\n",
    "        #if (prog['id'] == '0679195'):\n",
    "        #    print(parse_disc)\n",
    "        #    print(prog['description'])\n",
    "from_disc"
   ]
  },
  {
   "cell_type": "code",
   "execution_count": null,
   "metadata": {
    "collapsed": true
   },
   "outputs": [],
   "source": []
  }
 ],
 "metadata": {
  "anaconda-cloud": {},
  "kernelspec": {
   "display_name": "Python [py27]",
   "language": "python",
   "name": "Python [py27]"
  },
  "language_info": {
   "codemirror_mode": {
    "name": "ipython",
    "version": 2
   },
   "file_extension": ".py",
   "mimetype": "text/x-python",
   "name": "python",
   "nbconvert_exporter": "python",
   "pygments_lexer": "ipython2",
   "version": "2.7.12"
  }
 },
 "nbformat": 4,
 "nbformat_minor": 1
}
