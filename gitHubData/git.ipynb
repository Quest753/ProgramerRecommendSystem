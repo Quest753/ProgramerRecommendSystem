{
 "cells": [
  {
   "cell_type": "markdown",
   "metadata": {},
   "source": [
    "# Выкачивание данных из базы данных github'a"
   ]
  },
  {
   "cell_type": "markdown",
   "metadata": {},
   "source": [
    "### Подключение к удаленной базе данных через localhost"
   ]
  },
  {
   "cell_type": "code",
   "execution_count": 35,
   "metadata": {
    "collapsed": false,
    "scrolled": true
   },
   "outputs": [],
   "source": [
    "import mysql.connector\n",
    "import numpy as np\n",
    "import json\n",
    "import math\n",
    "from tqdm import tqdm\n",
    "from datetime import datetime\n",
    "cnx = mysql.connector.connect(user='ght',\n",
    "                              host='localhost',\n",
    "                              database='ghtorrent')\n",
    "cursor = cnx.cursor()"
   ]
  },
  {
   "cell_type": "code",
   "execution_count": 31,
   "metadata": {
    "collapsed": true
   },
   "outputs": [],
   "source": [
    "HH_skill = ['ABAP', 'ASP', 'Assembly', 'C#', 'C++', 'CMake', 'CSS', 'Clojure', 'CoffeeScript', 'ColdFusion', 'Delphi', 'FreeMarker', 'GLSL', 'Go', 'Groovy', 'HTML', 'Handlebars', 'Java', 'JavaScript', 'Kotlin', 'Lua', 'Nginx', 'Objective-C', 'PHP', 'Perl', 'PowerShell', 'Puppet', 'Python', 'Ruby', 'SQL', 'Smarty', 'Swift', 'TypeScript', 'Visual Basic', 'XML', 'XSLT']"
   ]
  },
  {
   "cell_type": "markdown",
   "metadata": {},
   "source": [
    "### Потоковая запись данных, взятых из базы данных в файл, в формате json"
   ]
  },
  {
   "cell_type": "code",
   "execution_count": 22,
   "metadata": {
    "collapsed": false
   },
   "outputs": [],
   "source": [
    "import json\n",
    "import codecs\n",
    "with codecs.open('new_data.json', 'a',encoding = 'utf8') as f:\n",
    "    f.write(']')\n",
    "def sv(obj,p,flag,encoding=\"utf8\"):\n",
    "    with codecs.open(p,\"a\",encoding=encoding) as f:\n",
    "        if flag == 0:\n",
    "            f.write('[')\n",
    "        f.write(json.dumps(obj,indent=1,ensure_ascii=0))\n",
    "        if flag == 1:\n",
    "            f.write(']')\n",
    "            return\n",
    "        f.write(',')\n",
    "        \n",
    "        #json.dumps(,f,indent=1,ensure_ascii=0)"
   ]
  },
  {
   "cell_type": "code",
   "execution_count": 17,
   "metadata": {
    "collapsed": false,
    "scrolled": true
   },
   "outputs": [
    {
     "data": {
      "text/plain": [
       "'https://api.github.com/repos/metasync/rbczmq'"
      ]
     },
     "execution_count": 17,
     "metadata": {},
     "output_type": "execute_result"
    }
   ],
   "source": [
    "cursor.execute(\"SELECT * FROM projects where owner_id='%s';\" %20)\n",
    "user_projects = cursor.fetchall()\n",
    "user_projects[0][1]"
   ]
  },
  {
   "cell_type": "code",
   "execution_count": 1,
   "metadata": {
    "collapsed": false
   },
   "outputs": [],
   "source": [
    "def get_user_experience(user_id, language):\n",
    "    \"\"\"\n",
    "    user_id - id пользователя в гитхабе.\n",
    "    language - язык, для которого надо определить опытность данного юзера.\n",
    "    Для каждого пользователя и языка программирования, на котором он программировал хоть однажды\n",
    "    Высчитывается его \"опыт\" программирования на этом языке.\n",
    "    \n",
    "    Возвращает число - опыт программиста в программировании на данном языке(language)\n",
    "    \"\"\"\n",
    "    cursor.execute(\"select * from projects where owner_id='%s' and language = '%s';\" %(user_id,language))\n",
    "    userLang = cursor.fetchall()\n",
    "    userLang = sorted([i[6] for i in userLang])    \n",
    "    if len(userLang) == 0:\n",
    "        return 0\n",
    "    \n",
    "    K_N = (userLang[-1].day+userLang[-1].month*30+userLang[-1].year*365) - (userLang[0].day+userLang[0].month*30+userLang[0].year*365) + 1\n",
    "    \n",
    "    man = [(q.day,q.year) for q in userLang]\n",
    "    commitDays = len(list(set(map(tuple, man))))\n",
    "\n",
    "    return round(math.log(K_N*commitDays)/20+0.31,4)\n"
   ]
  },
  {
   "cell_type": "markdown",
   "metadata": {},
   "source": [
    "### Обращение к бд"
   ]
  },
  {
   "cell_type": "code",
   "execution_count": null,
   "metadata": {
    "collapsed": false,
    "scrolled": true
   },
   "outputs": [
    {
     "name": "stderr",
     "output_type": "stream",
     "text": [
      " 64%|██████▍   | 645/1000 [15:09<23:52,  4.04s/it]"
     ]
    }
   ],
   "source": [
    "main_data = {}\n",
    "flag = 0\n",
    "unique_skills = np.array([])\n",
    "for user in tqdm(range(99000, 100000)):\n",
    "    \n",
    "    cursor.execute(\"SELECT * FROM projects where owner_id='%s';\" %user)\n",
    "    user_projects = cursor.fetchall()\n",
    "\n",
    "    if(len(user_projects) == 0 or len(user_projects[0]) <= 5):\n",
    "        continue\n",
    "    ####[0] - {language: user experience in language}\n",
    "    ####[1] - count user followers\n",
    "    ####[2] - count user wathers\n",
    "    ####[3] - github link from\n",
    "    main_data[user] = [{}, 0, 0, ''] # вот здесь\n",
    "   \n",
    "    user_skills = np.unique([i[5] for i in user_projects if i[5] != None])\n",
    "\n",
    "    user_link = \"https://github.com/\" + user_projects[0][1].split('/')[4]\n",
    "    main_data[user][3] = user_link \n",
    "    \n",
    "    for skill in user_skills:\n",
    "        if skill in HH_skill:\n",
    "            main_data[user][0][skill] = get_user_experience(user, skill)\n",
    "            \n",
    "    ###\n",
    "    cursor.execute(\"SELECT user_id FROM followers where user_id='%s';\" %user)\n",
    "    main_data[user][1] = len(cursor.fetchall())\n",
    "#     print(main_data[user][1])\n",
    "    cursor.execute(\"SELECT user_id FROM watchers where user_id='%s';\" %user)\n",
    "    main_data[user][2] = len(cursor.fetchall())\n",
    "    if user == 99999:\n",
    "        flag = 1\n",
    "    sv(main_data[user],'new_data.json',flag)\n",
    "    flag = -1\n",
    "    unique_skills = np.unique(np.append(unique_skills, user_skills))\n",
    "    main_data = {}"
   ]
  }
 ],
 "metadata": {
  "anaconda-cloud": {},
  "kernelspec": {
   "display_name": "Python [py35]",
   "language": "python",
   "name": "Python [py35]"
  },
  "language_info": {
   "codemirror_mode": {
    "name": "ipython",
    "version": 3
   },
   "file_extension": ".py",
   "mimetype": "text/x-python",
   "name": "python",
   "nbconvert_exporter": "python",
   "pygments_lexer": "ipython3",
   "version": "3.5.2"
  }
 },
 "nbformat": 4,
 "nbformat_minor": 0
}
