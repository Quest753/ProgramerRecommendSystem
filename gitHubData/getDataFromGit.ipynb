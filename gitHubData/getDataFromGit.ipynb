{
 "cells": [
  {
   "cell_type": "markdown",
   "metadata": {},
   "source": [
    "### Берет данные с гит хаба и возвращает rangingValues.csv и githubUsersFull.csv\n",
    "* __githubUsersFull.csv__ таблица вида(пользователь, языки программирования)\n",
    "* __rangingValues.csv__ таблица вида(Фолловеры, Просмотры, Ссылка на гитхаб)"
   ]
  },
  {
   "cell_type": "code",
   "execution_count": 6,
   "metadata": {
    "collapsed": true,
    "nbpresent": {
     "id": "845ccac6-175b-422a-9cd3-ff7e09138e43"
    }
   },
   "outputs": [],
   "source": [
    "import json\n",
    "from tqdm import tqdm\n",
    "import pandas as pd\n",
    "import numpy as np\n",
    "from collections import defaultdict"
   ]
  },
  {
   "cell_type": "code",
   "execution_count": 7,
   "metadata": {
    "collapsed": true,
    "nbpresent": {
     "id": "3e053953-f5fb-4f08-af75-282db4a59b1c"
    }
   },
   "outputs": [],
   "source": [
    "union_skills = ['Assembly', 'C#', 'C++', 'CMake', 'CSS', 'Clojure','CoffeeScript',\n",
    "                'ColdFusion', 'Delphi', 'GLSL', 'Go', 'Groovy', 'HTML',\n",
    "                'Java','JavaScript', 'Kotlin','Lua','Objective-C','PHP', 'Perl','PowerShell','Puppet',\n",
    "                'Python', 'Ruby', 'Smarty', 'Swift', 'TypeScript', 'XML',\n",
    "                'XSLT']"
   ]
  },
  {
   "cell_type": "code",
   "execution_count": 26,
   "metadata": {
    "collapsed": false,
    "nbpresent": {
     "id": "4375cfbf-288a-44f6-9a65-70fb755c46a0"
    }
   },
   "outputs": [],
   "source": [
    "def getDataFromGit(raw_data):\n",
    "    \"\"\"\n",
    "    Фунция преобразующая данные из 1-го словаря, возвращаемого функцией getData. \n",
    "    В разреженную матрицу, где столбцы - языки программирования, строки - пользователи\n",
    "    пересечение - 0, если пользователь не программирует на этом языке или оценка его способностей в этом языке\n",
    "    \n",
    "    Возвращает DataFrame.\n",
    "    \"\"\"\n",
    "    ans = pd.DataFrame(columns = union_skills)\n",
    "    skills = dict(enumerate(union_skills))\n",
    "    for user in tqdm(raw_data.values()):\n",
    "        row = np.zeros(29)\n",
    "        for i in range(len(union_skills)):\n",
    "            if skills[i] in user[0].keys():\n",
    "                row[i] = float(user[0][skills[i]])\n",
    "            else: \n",
    "                row[i] = 0.\n",
    "        ans = ans.append(pd.DataFrame(np.array(row).reshape(1,-1), columns = union_skills))\n",
    "    return ans"
   ]
  },
  {
   "cell_type": "code",
   "execution_count": 27,
   "metadata": {
    "collapsed": false
   },
   "outputs": [],
   "source": [
    "def getData():\n",
    "    \"\"\"\n",
    "    Функция читающая данные из new_data.json и преобразует это в 2 словаря\n",
    "    \n",
    "    Возвращает данные в формате \n",
    "    {user_id :[ language: cost]} ,{user_id: [Fllowers, Wacthers, Link]}\n",
    "    \"\"\"\n",
    "    \n",
    "    with open(\"new_data.json\",'r') as f:\n",
    "        data = f.read()\n",
    "    data = data.translate(None, b\"\\n\")\n",
    "    \n",
    "    ranging ={}\n",
    "    data_dict = defaultdict(list)\n",
    "    \n",
    "    data_split = data.split('],[')\n",
    "    for j in range(len(data_split)):\n",
    "        split = data_split[j].split(' ')\n",
    "        for i in xrange(len(split)):\n",
    "            if not split[i]: continue\n",
    "            if split[i] == '},':\n",
    "                ranging[j] = [split[i+1][:-1],split[i+2][:-1],split[i+3][1:-1]]\n",
    "            if split[i][-1] == \":\":\n",
    "                data_dict[j].append({split[i][1:-2]:split[i+1].translate(None,b', ')}) \n",
    "    \n",
    "    return data_dict, ranging"
   ]
  },
  {
   "cell_type": "code",
   "execution_count": 28,
   "metadata": {
    "collapsed": false,
    "scrolled": true
   },
   "outputs": [
    {
     "name": "stderr",
     "output_type": "stream",
     "text": [
      "100%|██████████| 24293/24293 [00:35<00:00, 675.99it/s]\n"
     ]
    }
   ],
   "source": [
    "dict_data, ranging = getData()\n",
    "frame_data = getDataFromGit(dict_data)\n",
    "rang = pd.DataFrame(np.array(ranging.values()),columns = [\"Followers\",\"Watchers\",\"Link\"])"
   ]
  },
  {
   "cell_type": "code",
   "execution_count": 29,
   "metadata": {
    "collapsed": false
   },
   "outputs": [],
   "source": [
    "frame_data.to_csv(\"newGitHubUsers.csv\",index=False)\n",
    "rang.to_csv(\"rangingGitLink.csv\",index=False)"
   ]
  },
  {
   "cell_type": "markdown",
   "metadata": {},
   "source": [
    "# Что же получилось"
   ]
  },
  {
   "cell_type": "code",
   "execution_count": 30,
   "metadata": {
    "collapsed": false,
    "scrolled": true
   },
   "outputs": [
    {
     "data": {
      "text/html": [
       "<div>\n",
       "<table border=\"1\" class=\"dataframe\">\n",
       "  <thead>\n",
       "    <tr style=\"text-align: right;\">\n",
       "      <th></th>\n",
       "      <th>Followers</th>\n",
       "      <th>Watchers</th>\n",
       "      <th>Link</th>\n",
       "    </tr>\n",
       "  </thead>\n",
       "  <tbody>\n",
       "    <tr>\n",
       "      <th>0</th>\n",
       "      <td>0</td>\n",
       "      <td>0</td>\n",
       "      <td>https://github.com/mcollina</td>\n",
       "    </tr>\n",
       "    <tr>\n",
       "      <th>1</th>\n",
       "      <td>82</td>\n",
       "      <td>337</td>\n",
       "      <td>https://github.com/tosch</td>\n",
       "    </tr>\n",
       "    <tr>\n",
       "      <th>2</th>\n",
       "      <td>54</td>\n",
       "      <td>227</td>\n",
       "      <td>https://github.com/kennethkalmer</td>\n",
       "    </tr>\n",
       "    <tr>\n",
       "      <th>3</th>\n",
       "      <td>30</td>\n",
       "      <td>81</td>\n",
       "      <td>https://github.com/anb</td>\n",
       "    </tr>\n",
       "    <tr>\n",
       "      <th>4</th>\n",
       "      <td>32</td>\n",
       "      <td>41</td>\n",
       "      <td>https://github.com/mschiller</td>\n",
       "    </tr>\n",
       "  </tbody>\n",
       "</table>\n",
       "</div>"
      ],
      "text/plain": [
       "  Followers Watchers                              Link\n",
       "0         0        0       https://github.com/mcollina\n",
       "1        82      337          https://github.com/tosch\n",
       "2        54      227  https://github.com/kennethkalmer\n",
       "3        30       81            https://github.com/anb\n",
       "4        32       41      https://github.com/mschiller"
      ]
     },
     "execution_count": 30,
     "metadata": {},
     "output_type": "execute_result"
    }
   ],
   "source": [
    "rang.head()"
   ]
  },
  {
   "cell_type": "code",
   "execution_count": 31,
   "metadata": {
    "collapsed": false,
    "scrolled": true
   },
   "outputs": [
    {
     "data": {
      "text/html": [
       "<div>\n",
       "<table border=\"1\" class=\"dataframe\">\n",
       "  <thead>\n",
       "    <tr style=\"text-align: right;\">\n",
       "      <th></th>\n",
       "      <th>Assembly</th>\n",
       "      <th>C#</th>\n",
       "      <th>C++</th>\n",
       "      <th>CMake</th>\n",
       "      <th>CSS</th>\n",
       "      <th>Clojure</th>\n",
       "      <th>CoffeeScript</th>\n",
       "      <th>ColdFusion</th>\n",
       "      <th>Delphi</th>\n",
       "      <th>GLSL</th>\n",
       "      <th>...</th>\n",
       "      <th>Perl</th>\n",
       "      <th>PowerShell</th>\n",
       "      <th>Puppet</th>\n",
       "      <th>Python</th>\n",
       "      <th>Ruby</th>\n",
       "      <th>Smarty</th>\n",
       "      <th>Swift</th>\n",
       "      <th>TypeScript</th>\n",
       "      <th>XML</th>\n",
       "      <th>XSLT</th>\n",
       "    </tr>\n",
       "  </thead>\n",
       "  <tbody>\n",
       "    <tr>\n",
       "      <th>0</th>\n",
       "      <td>0.0</td>\n",
       "      <td>0.0</td>\n",
       "      <td>0.0</td>\n",
       "      <td>0.0</td>\n",
       "      <td>0.0</td>\n",
       "      <td>0.0</td>\n",
       "      <td>0.0</td>\n",
       "      <td>0.0</td>\n",
       "      <td>0.0</td>\n",
       "      <td>0.0</td>\n",
       "      <td>...</td>\n",
       "      <td>0.0</td>\n",
       "      <td>0.0</td>\n",
       "      <td>0.0</td>\n",
       "      <td>0.0</td>\n",
       "      <td>0.0000</td>\n",
       "      <td>0.0</td>\n",
       "      <td>0.0</td>\n",
       "      <td>0.0</td>\n",
       "      <td>0.0</td>\n",
       "      <td>0.0</td>\n",
       "    </tr>\n",
       "    <tr>\n",
       "      <th>0</th>\n",
       "      <td>0.0</td>\n",
       "      <td>0.0</td>\n",
       "      <td>0.0</td>\n",
       "      <td>0.0</td>\n",
       "      <td>0.0</td>\n",
       "      <td>0.0</td>\n",
       "      <td>0.0</td>\n",
       "      <td>0.0</td>\n",
       "      <td>0.0</td>\n",
       "      <td>0.0</td>\n",
       "      <td>...</td>\n",
       "      <td>0.0</td>\n",
       "      <td>0.0</td>\n",
       "      <td>0.0</td>\n",
       "      <td>0.0</td>\n",
       "      <td>0.5234</td>\n",
       "      <td>0.0</td>\n",
       "      <td>0.0</td>\n",
       "      <td>0.0</td>\n",
       "      <td>0.0</td>\n",
       "      <td>0.0</td>\n",
       "    </tr>\n",
       "    <tr>\n",
       "      <th>0</th>\n",
       "      <td>0.0</td>\n",
       "      <td>0.0</td>\n",
       "      <td>0.0</td>\n",
       "      <td>0.0</td>\n",
       "      <td>0.0</td>\n",
       "      <td>0.0</td>\n",
       "      <td>0.0</td>\n",
       "      <td>0.0</td>\n",
       "      <td>0.0</td>\n",
       "      <td>0.0</td>\n",
       "      <td>...</td>\n",
       "      <td>0.0</td>\n",
       "      <td>0.0</td>\n",
       "      <td>0.0</td>\n",
       "      <td>0.0</td>\n",
       "      <td>0.0000</td>\n",
       "      <td>0.0</td>\n",
       "      <td>0.0</td>\n",
       "      <td>0.0</td>\n",
       "      <td>0.0</td>\n",
       "      <td>0.0</td>\n",
       "    </tr>\n",
       "    <tr>\n",
       "      <th>0</th>\n",
       "      <td>0.0</td>\n",
       "      <td>0.0</td>\n",
       "      <td>0.0</td>\n",
       "      <td>0.0</td>\n",
       "      <td>0.0</td>\n",
       "      <td>0.0</td>\n",
       "      <td>0.0</td>\n",
       "      <td>0.0</td>\n",
       "      <td>0.0</td>\n",
       "      <td>0.0</td>\n",
       "      <td>...</td>\n",
       "      <td>0.0</td>\n",
       "      <td>0.0</td>\n",
       "      <td>0.0</td>\n",
       "      <td>0.0</td>\n",
       "      <td>0.0000</td>\n",
       "      <td>0.0</td>\n",
       "      <td>0.0</td>\n",
       "      <td>0.0</td>\n",
       "      <td>0.0</td>\n",
       "      <td>0.0</td>\n",
       "    </tr>\n",
       "    <tr>\n",
       "      <th>0</th>\n",
       "      <td>0.0</td>\n",
       "      <td>0.0</td>\n",
       "      <td>0.0</td>\n",
       "      <td>0.0</td>\n",
       "      <td>0.0</td>\n",
       "      <td>0.0</td>\n",
       "      <td>0.0</td>\n",
       "      <td>0.0</td>\n",
       "      <td>0.0</td>\n",
       "      <td>0.0</td>\n",
       "      <td>...</td>\n",
       "      <td>0.0</td>\n",
       "      <td>0.0</td>\n",
       "      <td>0.0</td>\n",
       "      <td>0.0</td>\n",
       "      <td>0.0000</td>\n",
       "      <td>0.0</td>\n",
       "      <td>0.0</td>\n",
       "      <td>0.0</td>\n",
       "      <td>0.0</td>\n",
       "      <td>0.0</td>\n",
       "    </tr>\n",
       "  </tbody>\n",
       "</table>\n",
       "<p>5 rows × 29 columns</p>\n",
       "</div>"
      ],
      "text/plain": [
       "   Assembly   C#  C++  CMake  CSS  Clojure  CoffeeScript  ColdFusion  Delphi  \\\n",
       "0       0.0  0.0  0.0    0.0  0.0      0.0           0.0         0.0     0.0   \n",
       "0       0.0  0.0  0.0    0.0  0.0      0.0           0.0         0.0     0.0   \n",
       "0       0.0  0.0  0.0    0.0  0.0      0.0           0.0         0.0     0.0   \n",
       "0       0.0  0.0  0.0    0.0  0.0      0.0           0.0         0.0     0.0   \n",
       "0       0.0  0.0  0.0    0.0  0.0      0.0           0.0         0.0     0.0   \n",
       "\n",
       "   GLSL  ...   Perl  PowerShell  Puppet  Python    Ruby  Smarty  Swift  \\\n",
       "0   0.0  ...    0.0         0.0     0.0     0.0  0.0000     0.0    0.0   \n",
       "0   0.0  ...    0.0         0.0     0.0     0.0  0.5234     0.0    0.0   \n",
       "0   0.0  ...    0.0         0.0     0.0     0.0  0.0000     0.0    0.0   \n",
       "0   0.0  ...    0.0         0.0     0.0     0.0  0.0000     0.0    0.0   \n",
       "0   0.0  ...    0.0         0.0     0.0     0.0  0.0000     0.0    0.0   \n",
       "\n",
       "   TypeScript  XML  XSLT  \n",
       "0         0.0  0.0   0.0  \n",
       "0         0.0  0.0   0.0  \n",
       "0         0.0  0.0   0.0  \n",
       "0         0.0  0.0   0.0  \n",
       "0         0.0  0.0   0.0  \n",
       "\n",
       "[5 rows x 29 columns]"
      ]
     },
     "execution_count": 31,
     "metadata": {},
     "output_type": "execute_result"
    }
   ],
   "source": [
    "frame_data.head()"
   ]
  },
  {
   "cell_type": "code",
   "execution_count": null,
   "metadata": {
    "collapsed": false
   },
   "outputs": [],
   "source": []
  }
 ],
 "metadata": {
  "anaconda-cloud": {},
  "kernelspec": {
   "display_name": "Python [py27]",
   "language": "python",
   "name": "Python [py27]"
  },
  "language_info": {
   "codemirror_mode": {
    "name": "ipython",
    "version": 2
   },
   "file_extension": ".py",
   "mimetype": "text/x-python",
   "name": "python",
   "nbconvert_exporter": "python",
   "pygments_lexer": "ipython2",
   "version": "2.7.12"
  },
  "nbpresent": {
   "slides": {
    "01a238a7-c26b-4921-baf2-da97852cec28": {
     "id": "01a238a7-c26b-4921-baf2-da97852cec28",
     "prev": "0a332979-ee11-410d-9a84-4ca3fa07dc80",
     "regions": {
      "319397cd-cf04-4c71-9731-3cf97c224fff": {
       "attrs": {
        "height": 0.8,
        "width": 0.8,
        "x": 0.1,
        "y": 0.1
       },
       "content": {
        "cell": "ac42eb9f-669f-4927-a557-d491a6a16bb7",
        "part": "whole"
       },
       "id": "319397cd-cf04-4c71-9731-3cf97c224fff"
      }
     }
    },
    "02c1630f-7c25-4e45-8222-28a7fd4a3047": {
     "id": "02c1630f-7c25-4e45-8222-28a7fd4a3047",
     "prev": "661ae814-b3ed-4937-b908-d67a5d5729f5",
     "regions": {
      "505e8481-ff05-45c0-9b67-0660c3725ff8": {
       "attrs": {
        "height": 0.8,
        "width": 0.8,
        "x": 0.1,
        "y": 0.1
       },
       "content": {
        "cell": "d649be0f-8136-4da8-af4d-e0920932e0d0",
        "part": "whole"
       },
       "id": "505e8481-ff05-45c0-9b67-0660c3725ff8"
      }
     }
    },
    "0a332979-ee11-410d-9a84-4ca3fa07dc80": {
     "id": "0a332979-ee11-410d-9a84-4ca3fa07dc80",
     "prev": "d90a20d9-8525-48f9-b25c-ff4824326ef9",
     "regions": {
      "c576a751-809a-48c4-b507-13f2aeed4bbf": {
       "attrs": {
        "height": 0.8,
        "width": 0.8,
        "x": 0.1,
        "y": 0.1
       },
       "content": {
        "cell": "751488e0-bd7a-4ca4-aaef-65d4e98d3c46",
        "part": "whole"
       },
       "id": "c576a751-809a-48c4-b507-13f2aeed4bbf"
      }
     }
    },
    "12433937-aff0-4f1a-a6ce-d24d7a8234c9": {
     "id": "12433937-aff0-4f1a-a6ce-d24d7a8234c9",
     "prev": "b14fc83d-e5ac-4f02-a369-76f871308ec1",
     "regions": {
      "587858bc-ccbc-4bc2-a9c1-0d65f3afd3dc": {
       "attrs": {
        "height": 0.8,
        "width": 0.8,
        "x": 0.1,
        "y": 0.1
       },
       "content": {
        "cell": "2b783cda-5abd-49cd-b0a7-0b08dd5f1ee4",
        "part": "whole"
       },
       "id": "587858bc-ccbc-4bc2-a9c1-0d65f3afd3dc"
      }
     }
    },
    "24d94cb2-e0da-419c-ab6c-1c668166eca7": {
     "id": "24d94cb2-e0da-419c-ab6c-1c668166eca7",
     "prev": "4c373bc5-41f0-477e-a542-86d32ad263be",
     "regions": {
      "f48af7fc-b242-496a-b882-0efa358a8e0b": {
       "attrs": {
        "height": 0.8,
        "width": 0.8,
        "x": 0.1,
        "y": 0.1
       },
       "content": {
        "cell": "0b021e7a-26bd-40be-92ff-a5577b84175b",
        "part": "whole"
       },
       "id": "f48af7fc-b242-496a-b882-0efa358a8e0b"
      }
     }
    },
    "4c373bc5-41f0-477e-a542-86d32ad263be": {
     "id": "4c373bc5-41f0-477e-a542-86d32ad263be",
     "prev": "cc55952f-5055-4e05-8c63-efb8510369f5",
     "regions": {
      "c98ffa22-a891-4692-9894-45d87c35b3cb": {
       "attrs": {
        "height": 0.8,
        "width": 0.8,
        "x": 0.1,
        "y": 0.1
       },
       "content": {
        "cell": "3883a3ba-02e1-4cc3-84d6-423acbcfff08",
        "part": "whole"
       },
       "id": "c98ffa22-a891-4692-9894-45d87c35b3cb"
      }
     }
    },
    "607d46e8-a16a-424f-9a31-3eb769dbf3bc": {
     "id": "607d46e8-a16a-424f-9a31-3eb769dbf3bc",
     "prev": null,
     "regions": {}
    },
    "661ae814-b3ed-4937-b908-d67a5d5729f5": {
     "id": "661ae814-b3ed-4937-b908-d67a5d5729f5",
     "prev": "c75107d8-dc4d-4f21-8056-0435469e53ba",
     "regions": {
      "7a194d01-906c-4035-867b-097b5cf70de8": {
       "attrs": {
        "height": 0.8,
        "width": 0.8,
        "x": 0.1,
        "y": 0.1
       },
       "content": {
        "cell": "ce8cca27-907c-4ab0-9411-d1c97aff7b50",
        "part": "whole"
       },
       "id": "7a194d01-906c-4035-867b-097b5cf70de8"
      }
     }
    },
    "6a027acb-d075-471f-83ec-8967b2761572": {
     "id": "6a027acb-d075-471f-83ec-8967b2761572",
     "prev": "8cbfb898-d1e8-4a3d-bb13-7c704b58a508",
     "regions": {
      "65341d24-c816-4bb3-ba94-dde214ebc472": {
       "attrs": {
        "height": 0.8,
        "width": 0.8,
        "x": 0.1,
        "y": 0.1
       },
       "content": {
        "cell": "3e053953-f5fb-4f08-af75-282db4a59b1c",
        "part": "whole"
       },
       "id": "65341d24-c816-4bb3-ba94-dde214ebc472"
      }
     }
    },
    "72a5b4da-4f88-48b2-828d-dddb6de6eaba": {
     "id": "72a5b4da-4f88-48b2-828d-dddb6de6eaba",
     "prev": "12433937-aff0-4f1a-a6ce-d24d7a8234c9",
     "regions": {
      "2cbfaa13-77b2-4374-9737-8690e596664e": {
       "attrs": {
        "height": 0.8,
        "width": 0.8,
        "x": 0.1,
        "y": 0.1
       },
       "content": {
        "cell": "8b845768-13bf-4823-b2ae-1863ab0010bf",
        "part": "whole"
       },
       "id": "2cbfaa13-77b2-4374-9737-8690e596664e"
      }
     }
    },
    "8cbfb898-d1e8-4a3d-bb13-7c704b58a508": {
     "id": "8cbfb898-d1e8-4a3d-bb13-7c704b58a508",
     "prev": "e9670c35-d80d-43f9-932d-c7bdd34f7289",
     "regions": {
      "f479bef0-12f3-4a1c-ac37-69d74d1c2238": {
       "attrs": {
        "height": 0.8,
        "width": 0.8,
        "x": 0.1,
        "y": 0.1
       },
       "content": {
        "cell": "845ccac6-175b-422a-9cd3-ff7e09138e43",
        "part": "whole"
       },
       "id": "f479bef0-12f3-4a1c-ac37-69d74d1c2238"
      }
     }
    },
    "94132d83-30fe-4859-ad51-22158c4c3a7f": {
     "id": "94132d83-30fe-4859-ad51-22158c4c3a7f",
     "prev": "a438feeb-f2aa-48b3-87a7-878af5e7d037",
     "regions": {
      "4e992419-33dd-4510-917a-fb77667c5d71": {
       "attrs": {
        "height": 0.8,
        "width": 0.8,
        "x": 0.1,
        "y": 0.1
       },
       "content": {
        "cell": "f317f085-46da-42b7-9525-fd8043dc64fd",
        "part": "whole"
       },
       "id": "4e992419-33dd-4510-917a-fb77667c5d71"
      }
     }
    },
    "a438feeb-f2aa-48b3-87a7-878af5e7d037": {
     "id": "a438feeb-f2aa-48b3-87a7-878af5e7d037",
     "prev": "01a238a7-c26b-4921-baf2-da97852cec28",
     "regions": {
      "8933e8f0-7734-4b28-83c7-69ca116a7e51": {
       "attrs": {
        "height": 0.8,
        "width": 0.8,
        "x": 0.1,
        "y": 0.1
       },
       "content": {
        "cell": "7114f7c8-61c1-4469-a098-62c60d825260",
        "part": "whole"
       },
       "id": "8933e8f0-7734-4b28-83c7-69ca116a7e51"
      }
     }
    },
    "b14fc83d-e5ac-4f02-a369-76f871308ec1": {
     "id": "b14fc83d-e5ac-4f02-a369-76f871308ec1",
     "prev": "24d94cb2-e0da-419c-ab6c-1c668166eca7",
     "regions": {
      "a4dc7fa7-45ea-435a-9f48-b5ea4f5a101c": {
       "attrs": {
        "height": 0.8,
        "width": 0.8,
        "x": 0.1,
        "y": 0.1
       },
       "content": {
        "cell": "4462351e-92fa-4cf7-962d-1690fd84de4b",
        "part": "whole"
       },
       "id": "a4dc7fa7-45ea-435a-9f48-b5ea4f5a101c"
      }
     }
    },
    "c75107d8-dc4d-4f21-8056-0435469e53ba": {
     "id": "c75107d8-dc4d-4f21-8056-0435469e53ba",
     "prev": "94132d83-30fe-4859-ad51-22158c4c3a7f",
     "regions": {
      "786d3a79-fb72-45f4-acd9-9110be389aad": {
       "attrs": {
        "height": 0.8,
        "width": 0.8,
        "x": 0.1,
        "y": 0.1
       },
       "content": {
        "cell": "0282306d-709b-414a-86c9-892b45118d5d",
        "part": "whole"
       },
       "id": "786d3a79-fb72-45f4-acd9-9110be389aad"
      }
     }
    },
    "cc55952f-5055-4e05-8c63-efb8510369f5": {
     "id": "cc55952f-5055-4e05-8c63-efb8510369f5",
     "prev": "d716a3fc-80e3-45e8-a1ff-2343dc697adc",
     "regions": {
      "83fdd31b-8dc8-410a-b898-1144304e07ae": {
       "attrs": {
        "height": 0.8,
        "width": 0.8,
        "x": 0.1,
        "y": 0.1
       },
       "content": {
        "cell": "e6176d8d-5e20-44db-9bac-bae17468f278",
        "part": "whole"
       },
       "id": "83fdd31b-8dc8-410a-b898-1144304e07ae"
      }
     }
    },
    "d716a3fc-80e3-45e8-a1ff-2343dc697adc": {
     "id": "d716a3fc-80e3-45e8-a1ff-2343dc697adc",
     "prev": "02c1630f-7c25-4e45-8222-28a7fd4a3047",
     "regions": {
      "07afd4d1-3193-4391-a749-54a2df1a32f1": {
       "attrs": {
        "height": 0.8,
        "width": 0.8,
        "x": 0.1,
        "y": 0.1
       },
       "content": {
        "cell": "634cd857-bce5-4e40-9574-cec592edc91f",
        "part": "whole"
       },
       "id": "07afd4d1-3193-4391-a749-54a2df1a32f1"
      }
     }
    },
    "d90a20d9-8525-48f9-b25c-ff4824326ef9": {
     "id": "d90a20d9-8525-48f9-b25c-ff4824326ef9",
     "prev": "dc4c9c93-87b4-45f0-b242-6734c7e2ca8f",
     "regions": {
      "0bc6213a-35f0-415a-92f4-60e802a07c7a": {
       "attrs": {
        "height": 0.8,
        "width": 0.8,
        "x": 0.1,
        "y": 0.1
       },
       "content": {
        "cell": "4375cfbf-288a-44f6-9a65-70fb755c46a0",
        "part": "whole"
       },
       "id": "0bc6213a-35f0-415a-92f4-60e802a07c7a"
      }
     }
    },
    "dc4c9c93-87b4-45f0-b242-6734c7e2ca8f": {
     "id": "dc4c9c93-87b4-45f0-b242-6734c7e2ca8f",
     "prev": "6a027acb-d075-471f-83ec-8967b2761572",
     "regions": {
      "c937bceb-a20f-49b5-8c3f-9e8d965405d4": {
       "attrs": {
        "height": 0.8,
        "width": 0.8,
        "x": 0.1,
        "y": 0.1
       },
       "content": {
        "cell": "8b61de0e-8da0-4126-874d-c1093bbd9a6e",
        "part": "whole"
       },
       "id": "c937bceb-a20f-49b5-8c3f-9e8d965405d4"
      }
     }
    },
    "e9670c35-d80d-43f9-932d-c7bdd34f7289": {
     "id": "e9670c35-d80d-43f9-932d-c7bdd34f7289",
     "prev": "607d46e8-a16a-424f-9a31-3eb769dbf3bc",
     "regions": {
      "da750fa2-3b6f-4ad9-84d1-74ea64fd8e70": {
       "attrs": {
        "height": 0.8,
        "width": 0.8,
        "x": 0.1,
        "y": 0.1
       },
       "content": {
        "cell": "7d155596-4ce6-4495-bfef-c11529cda7dd",
        "part": "whole"
       },
       "id": "da750fa2-3b6f-4ad9-84d1-74ea64fd8e70"
      }
     }
    }
   },
   "themes": {
    "default": "9d836887-aed8-4b3c-bd45-a3b8340cc406",
    "theme": {
     "6f61a20b-952f-4f43-a4ba-17a5089d05c6": {
      "id": "6f61a20b-952f-4f43-a4ba-17a5089d05c6",
      "palette": {
       "19cc588f-0593-49c9-9f4b-e4d7cc113b1c": {
        "id": "19cc588f-0593-49c9-9f4b-e4d7cc113b1c",
        "rgb": [
         252,
         252,
         252
        ]
       },
       "31af15d2-7e15-44c5-ab5e-e04b16a89eff": {
        "id": "31af15d2-7e15-44c5-ab5e-e04b16a89eff",
        "rgb": [
         68,
         68,
         68
        ]
       },
       "50f92c45-a630-455b-aec3-788680ec7410": {
        "id": "50f92c45-a630-455b-aec3-788680ec7410",
        "rgb": [
         155,
         177,
         192
        ]
       },
       "c5cc3653-2ee1-402a-aba2-7caae1da4f6c": {
        "id": "c5cc3653-2ee1-402a-aba2-7caae1da4f6c",
        "rgb": [
         43,
         126,
         184
        ]
       },
       "efa7f048-9acb-414c-8b04-a26811511a21": {
        "id": "efa7f048-9acb-414c-8b04-a26811511a21",
        "rgb": [
         25.118061674008803,
         73.60176211453744,
         107.4819383259912
        ]
       }
      },
      "rules": {
       "blockquote": {
        "color": "50f92c45-a630-455b-aec3-788680ec7410"
       },
       "code": {
        "font-family": "Anonymous Pro"
       },
       "h1": {
        "color": "c5cc3653-2ee1-402a-aba2-7caae1da4f6c",
        "font-family": "Lato",
        "font-size": 8
       },
       "h2": {
        "color": "c5cc3653-2ee1-402a-aba2-7caae1da4f6c",
        "font-family": "Lato",
        "font-size": 6
       },
       "h3": {
        "color": "50f92c45-a630-455b-aec3-788680ec7410",
        "font-family": "Lato",
        "font-size": 5.5
       },
       "h4": {
        "color": "c5cc3653-2ee1-402a-aba2-7caae1da4f6c",
        "font-family": "Lato",
        "font-size": 5
       },
       "h5": {
        "font-family": "Lato"
       },
       "h6": {
        "font-family": "Lato"
       },
       "h7": {
        "font-family": "Lato"
       },
       "pre": {
        "font-family": "Anonymous Pro",
        "font-size": 4
       }
      },
      "text-base": {
       "font-family": "Merriweather",
       "font-size": 4
      }
     },
     "9d836887-aed8-4b3c-bd45-a3b8340cc406": {
      "backgrounds": {
       "dc7afa04-bf90-40b1-82a5-726e3cff5267": {
        "background-color": "31af15d2-7e15-44c5-ab5e-e04b16a89eff",
        "id": "dc7afa04-bf90-40b1-82a5-726e3cff5267"
       }
      },
      "id": "9d836887-aed8-4b3c-bd45-a3b8340cc406",
      "palette": {
       "19cc588f-0593-49c9-9f4b-e4d7cc113b1c": {
        "id": "19cc588f-0593-49c9-9f4b-e4d7cc113b1c",
        "rgb": [
         252,
         252,
         252
        ]
       },
       "31af15d2-7e15-44c5-ab5e-e04b16a89eff": {
        "id": "31af15d2-7e15-44c5-ab5e-e04b16a89eff",
        "rgb": [
         68,
         68,
         68
        ]
       },
       "50f92c45-a630-455b-aec3-788680ec7410": {
        "id": "50f92c45-a630-455b-aec3-788680ec7410",
        "rgb": [
         197,
         226,
         245
        ]
       },
       "c5cc3653-2ee1-402a-aba2-7caae1da4f6c": {
        "id": "c5cc3653-2ee1-402a-aba2-7caae1da4f6c",
        "rgb": [
         43,
         126,
         184
        ]
       },
       "efa7f048-9acb-414c-8b04-a26811511a21": {
        "id": "efa7f048-9acb-414c-8b04-a26811511a21",
        "rgb": [
         25.118061674008803,
         73.60176211453744,
         107.4819383259912
        ]
       }
      },
      "rules": {
       "a": {
        "color": "19cc588f-0593-49c9-9f4b-e4d7cc113b1c"
       },
       "blockquote": {
        "color": "50f92c45-a630-455b-aec3-788680ec7410",
        "font-size": 3
       },
       "code": {
        "font-family": "Anonymous Pro"
       },
       "h1": {
        "color": "19cc588f-0593-49c9-9f4b-e4d7cc113b1c",
        "font-family": "Merriweather",
        "font-size": 8
       },
       "h2": {
        "color": "19cc588f-0593-49c9-9f4b-e4d7cc113b1c",
        "font-family": "Merriweather",
        "font-size": 6
       },
       "h3": {
        "color": "50f92c45-a630-455b-aec3-788680ec7410",
        "font-family": "Lato",
        "font-size": 5.5
       },
       "h4": {
        "color": "c5cc3653-2ee1-402a-aba2-7caae1da4f6c",
        "font-family": "Lato",
        "font-size": 5
       },
       "h5": {
        "font-family": "Lato"
       },
       "h6": {
        "font-family": "Lato"
       },
       "h7": {
        "font-family": "Lato"
       },
       "li": {
        "color": "50f92c45-a630-455b-aec3-788680ec7410",
        "font-size": 3.25
       },
       "pre": {
        "font-family": "Anonymous Pro",
        "font-size": 4
       }
      },
      "text-base": {
       "color": "19cc588f-0593-49c9-9f4b-e4d7cc113b1c",
       "font-family": "Lato",
       "font-size": 4
      }
     }
    }
   }
  }
 },
 "nbformat": 4,
 "nbformat_minor": 1
}
