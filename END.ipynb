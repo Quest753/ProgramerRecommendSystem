{
 "cells": [
  {
   "cell_type": "markdown",
   "metadata": {
    "collapsed": true
   },
   "source": [
    "### В этой тетрадке мы объеденили нашу идею, для более понятного её представления.\n",
    "\n",
    "#### Идея состоит в том, чтобы для работодателей рекомендовать пользователей гитхаба с примерной ценой их работы."
   ]
  },
  {
   "cell_type": "markdown",
   "metadata": {},
   "source": [
    "### Загружаем модель\n",
    "\n",
    "Для решения задачи мы сначала сжали пространство признаков при помощи PCA с 6 компонентами, а потом применили SVR в с rbf kernel над преобразованными данными. Количество компонент и классификатор выбирались по кроссвалидации (см. [FitModel.ipynb](https://github.com/Quest753/ProgrammerRecommendSystem/blob/master/FitModel.ipynb))\n",
    "\n",
    "\n",
    "<img src=\"http://what-when-how.com/wp-content/uploads/2011/07/tmp691429_thumb.jpg\" alt=\"Drawing\" style=\"width: 640px; height: 480px\"/>\n"
   ]
  },
  {
   "cell_type": "code",
   "execution_count": 59,
   "metadata": {
    "collapsed": true
   },
   "outputs": [],
   "source": [
    "import pickle\n",
    "import numpy as np\n",
    "import pandas as pd\n",
    "from sklearn.svm import SVR\n",
    "from sklearn.decomposition import pca"
   ]
  },
  {
   "cell_type": "markdown",
   "metadata": {},
   "source": [
    "## Для обучения использовались данные с headhunter'a(см [workWithHH.ipynb](https://github.com/Quest753/ProgrammerRecommendSystem/blob/master/headhunterData/workWithHH.ipynb)) и обучались в [FitModel](https://github.com/Quest753/ProgrammerRecommendSystem/blob/master/FitModel.ipynb)"
   ]
  },
  {
   "cell_type": "code",
   "execution_count": 60,
   "metadata": {
    "collapsed": false
   },
   "outputs": [],
   "source": [
    "with open('data.pickle', 'rb') as f:\n",
    "    svr = pickle.load(f)\n",
    "with open('pca.pickle','rb') as f:\n",
    "    pca = pickle.load(f)\n"
   ]
  },
  {
   "cell_type": "code",
   "execution_count": 61,
   "metadata": {
    "collapsed": true
   },
   "outputs": [],
   "source": [
    "def predict(data):\n",
    "    '''\n",
    "        Функция предсказывающая цену для каждого пользователя \n",
    "            на основе важности требуемых языков программирования.\n",
    "        data - входные данные для предсказания цены.\n",
    "        Возвращает предсказанную цену.\n",
    "    '''\n",
    "    #уменьшение размерности входных данных\n",
    "    data_pca = pca.transform(data)\n",
    "    \n",
    "    #предсказание логарифма зарплаты при помощи RBF SVM\n",
    "    prediction = svr.predict(data_pca)\n",
    "\n",
    "    #пересчитываем логарифм зарплаты обратно в зарплату \n",
    "    salary = np.exp(prediction)\n",
    "    \n",
    "    return salary\n",
    "\n"
   ]
  },
  {
   "cell_type": "markdown",
   "metadata": {},
   "source": [
    "### Считаем тестовые данные\n",
    "Для того, чтобы предсказываемая цена зависила только от тех языков программирования, которые требуются работодателю, занулим все остальные языки. Тестовые данные берутся из гитхаба, процесс сбора и анализа полученной информации показан в файлах:\n",
    "* сбор :  [git.ipynb](https://github.com/Quest753/ProgrammerRecommendSystem/blob/master/gitHubData/downloadGitData.ipynb) \n",
    "* анализ : [getDataFromGit.ipynb](https://github.com/Quest753/ProgrammerRecommendSystem/blob/master/gitHubData/getDataFromGit.ipynb)"
   ]
  },
  {
   "cell_type": "code",
   "execution_count": 90,
   "metadata": {
    "collapsed": false
   },
   "outputs": [],
   "source": [
    "##читаем данные - предобработанную информацию о людях с гита для предсказания цены их работы.\n",
    "new_data = pd.read_csv(\"./github/newGitHubUsers.csv\")\n",
    "#передваемые параметры с сайта(Параметры, которые указывает работодатель)\n",
    "parameters = [\"C++\",\"C#\",90000]\n",
    "#запонляем всё нулями because reasons\n",
    "for col in new_data.columns:\n",
    "    if col not in parameters:\n",
    "        new_data[col] = np.zeros(len(new_data))"
   ]
  },
  {
   "cell_type": "code",
   "execution_count": 91,
   "metadata": {
    "collapsed": false
   },
   "outputs": [],
   "source": [
    "#Предсказание модели\n",
    "salary = predict(new_data)"
   ]
  },
  {
   "cell_type": "markdown",
   "metadata": {},
   "source": [
    "### Составляем таблицу для определения подходящих по цене программистов\n",
    "Для этого соенияем данные о пользователе с гитхаба( Количество фолловеров, количество просмотров, ссылку на гитхаб) и предсказанную цену.\n",
    "Затем сортируем выводим пользователей по количеству фолловеров и просмотров. "
   ]
  },
  {
   "cell_type": "code",
   "execution_count": 92,
   "metadata": {
    "collapsed": false
   },
   "outputs": [],
   "source": [
    "#полная информация о пользователях с гита\n",
    "ranging = pd.read_csv('github/rangingGitLink.csv')\n",
    "ranging['Salary'] = salary\n",
    "string = parameters\n",
    "##выбор пользователей, подходящих под запрос\n",
    "ans = ranging[(ranging.Salary <= string[-1] * 1.1) & (ranging.Salary >= string[-1] * 0.9)]\n",
    "ans = ans.sort_values(['Watchers', 'Salary'])[::-1]\n",
    "#ans.to_csv('answer11111-.csv')"
   ]
  },
  {
   "cell_type": "code",
   "execution_count": 93,
   "metadata": {
    "collapsed": false
   },
   "outputs": [
    {
     "data": {
      "text/html": [
       "<div>\n",
       "<table border=\"1\" class=\"dataframe\">\n",
       "  <thead>\n",
       "    <tr style=\"text-align: right;\">\n",
       "      <th></th>\n",
       "      <th>Followers</th>\n",
       "      <th>Watchers</th>\n",
       "      <th>Link</th>\n",
       "      <th>Salary</th>\n",
       "    </tr>\n",
       "  </thead>\n",
       "  <tbody>\n",
       "    <tr>\n",
       "      <th>1430</th>\n",
       "      <td>88</td>\n",
       "      <td>7207</td>\n",
       "      <td>https://github.com/ghosthamlet</td>\n",
       "      <td>93375.344154</td>\n",
       "    </tr>\n",
       "    <tr>\n",
       "      <th>8912</th>\n",
       "      <td>44</td>\n",
       "      <td>7059</td>\n",
       "      <td>https://github.com/Jackneill</td>\n",
       "      <td>88570.445319</td>\n",
       "    </tr>\n",
       "    <tr>\n",
       "      <th>1857</th>\n",
       "      <td>122</td>\n",
       "      <td>4956</td>\n",
       "      <td>https://github.com/pyrotechnick</td>\n",
       "      <td>96033.628983</td>\n",
       "    </tr>\n",
       "    <tr>\n",
       "      <th>792</th>\n",
       "      <td>112</td>\n",
       "      <td>4609</td>\n",
       "      <td>https://github.com/rmetzler</td>\n",
       "      <td>98805.241096</td>\n",
       "    </tr>\n",
       "    <tr>\n",
       "      <th>1159</th>\n",
       "      <td>102</td>\n",
       "      <td>4322</td>\n",
       "      <td>https://github.com/arden</td>\n",
       "      <td>95529.584930</td>\n",
       "    </tr>\n",
       "    <tr>\n",
       "      <th>3879</th>\n",
       "      <td>65</td>\n",
       "      <td>4046</td>\n",
       "      <td>https://github.com/netconstructor</td>\n",
       "      <td>97552.844326</td>\n",
       "    </tr>\n",
       "    <tr>\n",
       "      <th>5662</th>\n",
       "      <td>37</td>\n",
       "      <td>3485</td>\n",
       "      <td>https://github.com/yourchanges</td>\n",
       "      <td>84647.897968</td>\n",
       "    </tr>\n",
       "    <tr>\n",
       "      <th>15882</th>\n",
       "      <td>170</td>\n",
       "      <td>3478</td>\n",
       "      <td>https://github.com/bfontaine</td>\n",
       "      <td>96876.110802</td>\n",
       "    </tr>\n",
       "    <tr>\n",
       "      <th>10526</th>\n",
       "      <td>78</td>\n",
       "      <td>2456</td>\n",
       "      <td>https://github.com/netroby</td>\n",
       "      <td>81960.212363</td>\n",
       "    </tr>\n",
       "    <tr>\n",
       "      <th>23106</th>\n",
       "      <td>104</td>\n",
       "      <td>2434</td>\n",
       "      <td>https://github.com/ziyasal</td>\n",
       "      <td>93549.440494</td>\n",
       "    </tr>\n",
       "  </tbody>\n",
       "</table>\n",
       "</div>"
      ],
      "text/plain": [
       "       Followers  Watchers                               Link        Salary\n",
       "1430          88      7207     https://github.com/ghosthamlet  93375.344154\n",
       "8912          44      7059       https://github.com/Jackneill  88570.445319\n",
       "1857         122      4956    https://github.com/pyrotechnick  96033.628983\n",
       "792          112      4609        https://github.com/rmetzler  98805.241096\n",
       "1159         102      4322           https://github.com/arden  95529.584930\n",
       "3879          65      4046  https://github.com/netconstructor  97552.844326\n",
       "5662          37      3485     https://github.com/yourchanges  84647.897968\n",
       "15882        170      3478       https://github.com/bfontaine  96876.110802\n",
       "10526         78      2456         https://github.com/netroby  81960.212363\n",
       "23106        104      2434         https://github.com/ziyasal  93549.440494"
      ]
     },
     "execution_count": 93,
     "metadata": {},
     "output_type": "execute_result"
    }
   ],
   "source": [
    "ans[:10]"
   ]
  },
  {
   "cell_type": "code",
   "execution_count": 81,
   "metadata": {
    "collapsed": false
   },
   "outputs": [
    {
     "data": {
      "text/html": [
       "<div>\n",
       "<table border=\"1\" class=\"dataframe\">\n",
       "  <thead>\n",
       "    <tr style=\"text-align: right;\">\n",
       "      <th></th>\n",
       "      <th>Followers</th>\n",
       "      <th>Watchers</th>\n",
       "      <th>Link</th>\n",
       "      <th>Salary</th>\n",
       "    </tr>\n",
       "  </thead>\n",
       "  <tbody>\n",
       "    <tr>\n",
       "      <th>1964</th>\n",
       "      <td>119</td>\n",
       "      <td>6033</td>\n",
       "      <td>https://github.com/frozzare</td>\n",
       "      <td>77976.487697</td>\n",
       "    </tr>\n",
       "    <tr>\n",
       "      <th>23571</th>\n",
       "      <td>177</td>\n",
       "      <td>4772</td>\n",
       "      <td>https://github.com/h2non</td>\n",
       "      <td>81522.707178</td>\n",
       "    </tr>\n",
       "    <tr>\n",
       "      <th>2800</th>\n",
       "      <td>773</td>\n",
       "      <td>4117</td>\n",
       "      <td>https://github.com/cheeaun</td>\n",
       "      <td>84160.028012</td>\n",
       "    </tr>\n",
       "    <tr>\n",
       "      <th>3879</th>\n",
       "      <td>65</td>\n",
       "      <td>4046</td>\n",
       "      <td>https://github.com/netconstructor</td>\n",
       "      <td>77996.219573</td>\n",
       "    </tr>\n",
       "    <tr>\n",
       "      <th>8214</th>\n",
       "      <td>281</td>\n",
       "      <td>3677</td>\n",
       "      <td>https://github.com/simplyianm</td>\n",
       "      <td>77011.630974</td>\n",
       "    </tr>\n",
       "    <tr>\n",
       "      <th>8616</th>\n",
       "      <td>72</td>\n",
       "      <td>3178</td>\n",
       "      <td>https://github.com/jalbertbowden</td>\n",
       "      <td>83014.328881</td>\n",
       "    </tr>\n",
       "    <tr>\n",
       "      <th>3990</th>\n",
       "      <td>747</td>\n",
       "      <td>3146</td>\n",
       "      <td>https://github.com/MatthewMueller</td>\n",
       "      <td>81434.006860</td>\n",
       "    </tr>\n",
       "    <tr>\n",
       "      <th>3088</th>\n",
       "      <td>35</td>\n",
       "      <td>2766</td>\n",
       "      <td>https://github.com/heracek</td>\n",
       "      <td>72545.749162</td>\n",
       "    </tr>\n",
       "    <tr>\n",
       "      <th>753</th>\n",
       "      <td>39</td>\n",
       "      <td>2691</td>\n",
       "      <td>https://github.com/fabien</td>\n",
       "      <td>82590.961340</td>\n",
       "    </tr>\n",
       "    <tr>\n",
       "      <th>5934</th>\n",
       "      <td>61</td>\n",
       "      <td>2388</td>\n",
       "      <td>https://github.com/macressler</td>\n",
       "      <td>83409.110429</td>\n",
       "    </tr>\n",
       "  </tbody>\n",
       "</table>\n",
       "</div>"
      ],
      "text/plain": [
       "       Followers  Watchers                               Link        Salary\n",
       "1964         119      6033        https://github.com/frozzare  77976.487697\n",
       "23571        177      4772           https://github.com/h2non  81522.707178\n",
       "2800         773      4117         https://github.com/cheeaun  84160.028012\n",
       "3879          65      4046  https://github.com/netconstructor  77996.219573\n",
       "8214         281      3677      https://github.com/simplyianm  77011.630974\n",
       "8616          72      3178   https://github.com/jalbertbowden  83014.328881\n",
       "3990         747      3146  https://github.com/MatthewMueller  81434.006860\n",
       "3088          35      2766         https://github.com/heracek  72545.749162\n",
       "753           39      2691          https://github.com/fabien  82590.961340\n",
       "5934          61      2388      https://github.com/macressler  83409.110429"
      ]
     },
     "execution_count": 81,
     "metadata": {},
     "output_type": "execute_result"
    }
   ],
   "source": [
    "##запрос [\"CSS\",\"HTML\",\"JavaScript\",80000]\n",
    "ans[:10]"
   ]
  },
  {
   "cell_type": "code",
   "execution_count": 89,
   "metadata": {
    "collapsed": false
   },
   "outputs": [
    {
     "data": {
      "text/html": [
       "<div>\n",
       "<table border=\"1\" class=\"dataframe\">\n",
       "  <thead>\n",
       "    <tr style=\"text-align: right;\">\n",
       "      <th></th>\n",
       "      <th>Followers</th>\n",
       "      <th>Watchers</th>\n",
       "      <th>Link</th>\n",
       "      <th>Salary</th>\n",
       "    </tr>\n",
       "  </thead>\n",
       "  <tbody>\n",
       "    <tr>\n",
       "      <th>1430</th>\n",
       "      <td>88</td>\n",
       "      <td>7207</td>\n",
       "      <td>https://github.com/ghosthamlet</td>\n",
       "      <td>85261.996543</td>\n",
       "    </tr>\n",
       "    <tr>\n",
       "      <th>5758</th>\n",
       "      <td>134</td>\n",
       "      <td>6270</td>\n",
       "      <td>https://github.com/nxbdi</td>\n",
       "      <td>89894.603273</td>\n",
       "    </tr>\n",
       "    <tr>\n",
       "      <th>4353</th>\n",
       "      <td>42</td>\n",
       "      <td>5663</td>\n",
       "      <td>https://github.com/wenzhihong2003</td>\n",
       "      <td>83336.515197</td>\n",
       "    </tr>\n",
       "    <tr>\n",
       "      <th>1159</th>\n",
       "      <td>102</td>\n",
       "      <td>4322</td>\n",
       "      <td>https://github.com/arden</td>\n",
       "      <td>85672.631147</td>\n",
       "    </tr>\n",
       "    <tr>\n",
       "      <th>3879</th>\n",
       "      <td>65</td>\n",
       "      <td>4046</td>\n",
       "      <td>https://github.com/netconstructor</td>\n",
       "      <td>96611.041208</td>\n",
       "    </tr>\n",
       "  </tbody>\n",
       "</table>\n",
       "</div>"
      ],
      "text/plain": [
       "      Followers  Watchers                               Link        Salary\n",
       "1430         88      7207     https://github.com/ghosthamlet  85261.996543\n",
       "5758        134      6270           https://github.com/nxbdi  89894.603273\n",
       "4353         42      5663  https://github.com/wenzhihong2003  83336.515197\n",
       "1159        102      4322           https://github.com/arden  85672.631147\n",
       "3879         65      4046  https://github.com/netconstructor  96611.041208"
      ]
     },
     "execution_count": 89,
     "metadata": {},
     "output_type": "execute_result"
    }
   ],
   "source": [
    "# [\"SQL\", \"Go\", \"Java\", 90000]\n",
    "# коммент что это такое\n",
    "ans.head()"
   ]
  },
  {
   "cell_type": "code",
   "execution_count": null,
   "metadata": {
    "collapsed": true
   },
   "outputs": [],
   "source": []
  }
 ],
 "metadata": {
  "anaconda-cloud": {},
  "kernelspec": {
   "display_name": "Python [py27]",
   "language": "python",
   "name": "Python [py27]"
  },
  "language_info": {
   "codemirror_mode": {
    "name": "ipython",
    "version": 2
   },
   "file_extension": ".py",
   "mimetype": "text/x-python",
   "name": "python",
   "nbconvert_exporter": "python",
   "pygments_lexer": "ipython2",
   "version": "2.7.12"
  }
 },
 "nbformat": 4,
 "nbformat_minor": 1
}
