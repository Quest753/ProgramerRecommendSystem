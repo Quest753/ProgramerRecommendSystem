{
 "cells": [
  {
   "cell_type": "code",
   "execution_count": 18,
   "metadata": {
    "collapsed": true
   },
   "outputs": [],
   "source": [
    "from sklearn.linear_model import LinearRegression"
   ]
  },
  {
   "cell_type": "code",
   "execution_count": null,
   "metadata": {
    "collapsed": true
   },
   "outputs": [],
   "source": [
    "### В этой тетрадке мы объеденили нашу идею, для более понятного её представления.\n",
    "\n",
    "##### Идея состоит в том, чтобы для работодателей рекомендовать пользователей гитхаба с примерной ценой их работы."
   ]
  },
  {
   "cell_type": "markdown",
   "metadata": {},
   "source": [
    "### Загружаем модель\n",
    "\n",
    "Для решения задачи мы сначала сжали пространство признаков при помощи PCA с 16 компонентами, а потом применили SVR в с rbf kernel над преобразованными данными. Количество компонент и классификатор выбирались по кроссвалидации (см. [ActuallytryingToFitSomeModel.ipynb](https://github.com/Quest753/hackathon2016/blob/master/ActualtryingTofit.ipynb))\n",
    "\n",
    "\n",
    "<img src=\"http://what-when-how.com/wp-content/uploads/2011/07/tmp691429_thumb.jpg\" alt=\"Drawing\" style=\"width: 640px; height: 480px\"/>\n"
   ]
  },
  {
   "cell_type": "code",
   "execution_count": 1,
   "metadata": {
    "collapsed": true
   },
   "outputs": [],
   "source": [
    "import pickle\n",
    "import numpy as np\n",
    "import pandas as pd\n",
    "from sklearn.svm import SVR\n",
    "from sklearn.decomposition import pca"
   ]
  },
  {
   "cell_type": "markdown",
   "metadata": {},
   "source": [
    "## Для обучения использовались данные с headhunter'a(см [workWithHH.ipynb]())"
   ]
  },
  {
   "cell_type": "code",
   "execution_count": 2,
   "metadata": {
    "collapsed": false
   },
   "outputs": [],
   "source": [
    "with open('data.pickle', 'rb') as f:\n",
    "    svr = pickle.load(f)\n",
    "with open('pca.pickle','rb') as f:\n",
    "    pca = pickle.load(f)\n"
   ]
  },
  {
   "cell_type": "code",
   "execution_count": 3,
   "metadata": {
    "collapsed": true
   },
   "outputs": [],
   "source": [
    "def predict(data):\n",
    "    '''\n",
    "        Функция предсказывающая цену для каждого пользователя \n",
    "            на основе важности требуемых языков программирования.\n",
    "        data - входные данные для предсказания цены.\n",
    "        Возвращает предсказанную цену.\n",
    "    '''\n",
    "    #уменьшение размерности входных данных\n",
    "    data_pca = pca.transform(data)\n",
    "\n",
    "    #предсказание логарифма зарплаты при помощи RBF SVM\n",
    "    prediction = svr.predict(data_pca)\n",
    "\n",
    "    #пересчитываем логарифм зарплаты обратно в зарплату \n",
    "    salary = np.exp(prediction)\n",
    "    \n",
    "    return salary\n",
    "\n"
   ]
  },
  {
   "cell_type": "markdown",
   "metadata": {},
   "source": [
    "### Считаем тестовые данные\n",
    "Для того, чтобы предсказываемая цена зависила только от тех языков программирования, которые требуются работодателю, занулим все остальные языки. Тестовые данные берутся из гитхаба, процесс сбора и анализа полученной информации показан в файлах:\n",
    "* сбор :  [git.ipynb](https://github.com/Quest753/hackathon2016/blob/master/git.ipynb) \n",
    "* анализ : [getDataFromGit.ipynb](https://github.com/Quest753/hackathon2016/blob/master/getDataFromGit.ipynb)"
   ]
  },
  {
   "cell_type": "code",
   "execution_count": 12,
   "metadata": {
    "collapsed": false
   },
   "outputs": [],
   "source": [
    "##читаем данные - предобработанную информацию о людях с гита для предсказания цены их работы.\n",
    "new_data = pd.read_csv(\"./github/newGitHubUsers.csv\")\n",
    "#передваемые параметры с сайта(Параметры, которые указывает работодатель)\n",
    "parameters = [\"SQL\", 100000]\n",
    "#запонляем всё нулями because reasons\n",
    "# for col in new_data.columns:\n",
    "#     if col not in parameters:\n",
    "#         new_data[col] = np.zeros(len(new_data))"
   ]
  },
  {
   "cell_type": "code",
   "execution_count": 5,
   "metadata": {
    "collapsed": false
   },
   "outputs": [],
   "source": [
    "#Предсказание модели\n",
    "salary = predict(new_data)"
   ]
  },
  {
   "cell_type": "markdown",
   "metadata": {},
   "source": [
    "### Составляем таблицу для определения подходящих по цене программистов\n",
    "Для этого соенияем данные о пользователе с гитхаба( Количество фолловеров, количество просмотров, ссылку на гитхаб) и предсказанную цену.\n",
    "Затем сортируем выводим пользователей по количеству фолловеров и просмотров. "
   ]
  },
  {
   "cell_type": "code",
   "execution_count": 42,
   "metadata": {
    "collapsed": false
   },
   "outputs": [],
   "source": [
    "#полная информация о пользователях с гита\n",
    "ranging = pd.read_csv('github/rangingGitLink.csv')\n",
    "ranging['Salary'] = salary\n",
    "string = parameters\n",
    "##выбор пользователей, подходящих под запрос\n",
    "ans = ranging[(ranging.Salary <= string[-1] * 1.5) & (ranging.Salary >= string[-1] * 0.5)]\n",
    "ans = ans.sort_values(['Salary', 'Watchers'])[::-1]\n",
    "#ans.to_csv('answer11111-.csv')"
   ]
  },
  {
   "cell_type": "code",
   "execution_count": 43,
   "metadata": {
    "collapsed": false
   },
   "outputs": [
    {
     "data": {
      "text/html": [
       "<div>\n",
       "<table border=\"1\" class=\"dataframe\">\n",
       "  <thead>\n",
       "    <tr style=\"text-align: right;\">\n",
       "      <th></th>\n",
       "      <th>Followers</th>\n",
       "      <th>Watchers</th>\n",
       "      <th>Link</th>\n",
       "      <th>Salary</th>\n",
       "    </tr>\n",
       "  </thead>\n",
       "  <tbody>\n",
       "  </tbody>\n",
       "</table>\n",
       "</div>"
      ],
      "text/plain": [
       "Empty DataFrame\n",
       "Columns: [Followers, Watchers, Link, Salary]\n",
       "Index: []"
      ]
     },
     "execution_count": 43,
     "metadata": {},
     "output_type": "execute_result"
    }
   ],
   "source": [
    "##запрос [\"CSS\",\"HTML\",\"JavaScript\",80000]\n",
    "ans"
   ]
  },
  {
   "cell_type": "code",
   "execution_count": 20,
   "metadata": {
    "collapsed": false
   },
   "outputs": [
    {
     "data": {
      "text/html": [
       "<div>\n",
       "<table border=\"1\" class=\"dataframe\">\n",
       "  <thead>\n",
       "    <tr style=\"text-align: right;\">\n",
       "      <th></th>\n",
       "      <th>Followers</th>\n",
       "      <th>Watchers</th>\n",
       "      <th>Link</th>\n",
       "      <th>Salary</th>\n",
       "    </tr>\n",
       "  </thead>\n",
       "  <tbody>\n",
       "  </tbody>\n",
       "</table>\n",
       "</div>"
      ],
      "text/plain": [
       "Empty DataFrame\n",
       "Columns: [Followers, Watchers, Link, Salary]\n",
       "Index: []"
      ]
     },
     "execution_count": 20,
     "metadata": {},
     "output_type": "execute_result"
    }
   ],
   "source": [
    "# [\"C++\",\"C#\",90000]\n",
    "# коммент что это такое\n",
    "ans.head()"
   ]
  },
  {
   "cell_type": "code",
   "execution_count": 42,
   "metadata": {
    "collapsed": false
   },
   "outputs": [
    {
     "data": {
      "text/html": [
       "<div>\n",
       "<table border=\"1\" class=\"dataframe\">\n",
       "  <thead>\n",
       "    <tr style=\"text-align: right;\">\n",
       "      <th></th>\n",
       "      <th>Followers</th>\n",
       "      <th>Watchers</th>\n",
       "      <th>Link</th>\n",
       "      <th>Salary</th>\n",
       "    </tr>\n",
       "  </thead>\n",
       "  <tbody>\n",
       "    <tr>\n",
       "      <th>14891</th>\n",
       "      <td>88</td>\n",
       "      <td>128</td>\n",
       "      <td>https://github.com/jenkinsci</td>\n",
       "      <td>91145.125219</td>\n",
       "    </tr>\n",
       "    <tr>\n",
       "      <th>24352</th>\n",
       "      <td>542</td>\n",
       "      <td>29</td>\n",
       "      <td>https://github.com/apache</td>\n",
       "      <td>88200.962661</td>\n",
       "    </tr>\n",
       "    <tr>\n",
       "      <th>19000</th>\n",
       "      <td>12</td>\n",
       "      <td>51</td>\n",
       "      <td>https://github.com/mulesoft</td>\n",
       "      <td>87322.276803</td>\n",
       "    </tr>\n",
       "    <tr>\n",
       "      <th>14084</th>\n",
       "      <td>113</td>\n",
       "      <td>34</td>\n",
       "      <td>https://github.com/ndeloof</td>\n",
       "      <td>84554.531801</td>\n",
       "    </tr>\n",
       "    <tr>\n",
       "      <th>15176</th>\n",
       "      <td>9</td>\n",
       "      <td>63</td>\n",
       "      <td>https://github.com/carrot-garden</td>\n",
       "      <td>84379.118651</td>\n",
       "    </tr>\n",
       "  </tbody>\n",
       "</table>\n",
       "</div>"
      ],
      "text/plain": [
       "       Followers  Watchers                              Link        Salary\n",
       "14891         88       128      https://github.com/jenkinsci  91145.125219\n",
       "24352        542        29         https://github.com/apache  88200.962661\n",
       "19000         12        51       https://github.com/mulesoft  87322.276803\n",
       "14084        113        34        https://github.com/ndeloof  84554.531801\n",
       "15176          9        63  https://github.com/carrot-garden  84379.118651"
      ]
     },
     "execution_count": 42,
     "metadata": {},
     "output_type": "execute_result"
    }
   ],
   "source": [
    "# [\"SQL\", \"Go\", \"Java\", 90000]\n",
    "# коммент что это такое\n",
    "ans.head()"
   ]
  },
  {
   "cell_type": "code",
   "execution_count": null,
   "metadata": {
    "collapsed": true
   },
   "outputs": [],
   "source": []
  }
 ],
 "metadata": {
  "anaconda-cloud": {},
  "kernelspec": {
   "display_name": "Python [py27]",
   "language": "python",
   "name": "Python [py27]"
  },
  "language_info": {
   "codemirror_mode": {
    "name": "ipython",
    "version": 2
   },
   "file_extension": ".py",
   "mimetype": "text/x-python",
   "name": "python",
   "nbconvert_exporter": "python",
   "pygments_lexer": "ipython2",
   "version": "2.7.12"
  }
 },
 "nbformat": 4,
 "nbformat_minor": 1
}
